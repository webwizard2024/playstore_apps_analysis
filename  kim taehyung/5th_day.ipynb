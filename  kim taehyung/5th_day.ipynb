{
 "cells": [
  {
   "cell_type": "markdown",
   "id": "dca02598",
   "metadata": {},
   "source": [
    "sets:"
   ]
  },
  {
   "cell_type": "code",
   "execution_count": 2,
   "id": "47734470",
   "metadata": {},
   "outputs": [
    {
     "name": "stdout",
     "output_type": "stream",
     "text": [
      "{1, 2, 3}\n"
     ]
    }
   ],
   "source": [
    "s = {1, 2, 3}\n",
    "c = s.copy()\n",
    "print(c)   # {1, 2, 3}\n"
   ]
  },
  {
   "cell_type": "code",
   "execution_count": 3,
   "id": "7b148804",
   "metadata": {},
   "outputs": [
    {
     "name": "stdout",
     "output_type": "stream",
     "text": [
      "Set A: {1, 2, 3, 4, 5}\n",
      "Set B: {4, 5, 6, 7, 8}\n",
      "\n",
      "After add(10): {1, 2, 3, 4, 5, 10}\n",
      "After remove(1): {2, 3, 4, 5, 10}\n",
      "After discard(100): {2, 3, 4, 5, 10}\n",
      "Popped element: 2\n",
      "After pop(): {3, 4, 5, 10}\n",
      "After clear(): set()\n",
      "Copy of B: {4, 5, 6, 7, 8}\n",
      "\n",
      "Union (A ∪ B): {3, 4, 5, 6, 7, 8, 10}\n",
      "Union with | : {3, 4, 5, 6, 7, 8, 10}\n",
      "Intersection (A ∩ B): {4, 5}\n",
      "Intersection with & : {4, 5}\n",
      "Difference (A - B): {10, 3}\n",
      "Difference (B - A): {8, 6, 7}\n",
      "Symmetric Difference (A ^ B): {3, 6, 7, 8, 10}\n",
      "\n",
      "Is {4,5} subset of B? True\n",
      "Is B superset of {4,5}? True\n"
     ]
    }
   ],
   "source": [
    "# ===== SET ASSIGNMENT DEMO =====\n",
    "\n",
    "# Create two sets\n",
    "a = {1, 2, 3, 4, 5}\n",
    "b = {4, 5, 6, 7, 8}\n",
    "\n",
    "print(\"Set A:\", a)\n",
    "print(\"Set B:\", b)\n",
    "\n",
    "# 1. add()\n",
    "a.add(10)\n",
    "print(\"\\nAfter add(10):\", a)\n",
    "\n",
    "# 2. remove()\n",
    "a.remove(1)\n",
    "print(\"After remove(1):\", a)\n",
    "\n",
    "# 3. discard()\n",
    "a.discard(100)   # no error even if element not found\n",
    "print(\"After discard(100):\", a)\n",
    "\n",
    "# 4. pop()\n",
    "popped = a.pop()\n",
    "print(\"Popped element:\", popped)\n",
    "print(\"After pop():\", a)\n",
    "\n",
    "# 5. clear()\n",
    "temp = a.copy()   # make a copy first\n",
    "temp.clear()\n",
    "print(\"After clear():\", temp)\n",
    "\n",
    "# 6. copy()\n",
    "c = b.copy()\n",
    "print(\"Copy of B:\", c)\n",
    "\n",
    "# 7. union()\n",
    "print(\"\\nUnion (A ∪ B):\", a.union(b))\n",
    "print(\"Union with | :\", a | b)\n",
    "\n",
    "# 8. intersection()\n",
    "print(\"Intersection (A ∩ B):\", a.intersection(b))\n",
    "print(\"Intersection with & :\", a & b)\n",
    "\n",
    "# 9. difference()\n",
    "print(\"Difference (A - B):\", a.difference(b))\n",
    "print(\"Difference (B - A):\", b.difference(a))\n",
    "\n",
    "# 10. symmetric_difference()\n",
    "print(\"Symmetric Difference (A ^ B):\", a.symmetric_difference(b))\n",
    "\n",
    "# 11. issubset()\n",
    "print(\"\\nIs {4,5} subset of B?\", {4,5}.issubset(b))\n",
    "\n",
    "# 12. issuperset()\n",
    "print(\"Is B superset of {4,5}?\", b.issuperset({4,5}))\n"
   ]
  },
  {
   "cell_type": "code",
   "execution_count": null,
   "id": "002531c3",
   "metadata": {},
   "outputs": [],
   "source": []
  },
  {
   "cell_type": "markdown",
   "id": "16bf5c7f",
   "metadata": {},
   "source": [
    "DICTIONARIES\n"
   ]
  },
  {
   "cell_type": "code",
   "execution_count": 4,
   "id": "79b7d982",
   "metadata": {},
   "outputs": [
    {
     "name": "stdout",
     "output_type": "stream",
     "text": [
      "{'name': 'Fawad', 'age': 32, 'grade': 'A'}\n"
     ]
    }
   ],
   "source": [
    "## accessing Dictionary Elements\n",
    "student={\"name\":\"Fawad\",\"age\":32,\"grade\":'A'}\n",
    "print(student)\n"
   ]
  },
  {
   "cell_type": "code",
   "execution_count": 5,
   "id": "01282903",
   "metadata": {},
   "outputs": [
    {
     "name": "stdout",
     "output_type": "stream",
     "text": [
      "{'name': 'Fawad', 'age': 33, 'grade': 'A'}\n",
      "{'name': 'Fawad', 'age': 33, 'grade': 'A', 'address': 'Pakistan'}\n"
     ]
    }
   ],
   "source": [
    "student[\"age\"]=33 ##update value for the key\n",
    "print(student)\n",
    "student[\"address\"]=\"Pakistan\" ## added a new key and value\n",
    "print(student)\n"
   ]
  },
  {
   "cell_type": "code",
   "execution_count": 6,
   "id": "3a594905",
   "metadata": {},
   "outputs": [
    {
     "name": "stdout",
     "output_type": "stream",
     "text": [
      "dict_keys(['name', 'age', 'grade', 'address'])\n",
      "dict_values(['Fawad', 33, 'A', 'Pakistan'])\n",
      "dict_items([('name', 'Fawad'), ('age', 33), ('grade', 'A'), ('address', 'Pakistan')])\n"
     ]
    }
   ],
   "source": [
    "keys=student.keys() ##get all the keys\n",
    "print(keys)\n",
    "values=student.values() ##get all values\n",
    "print(values)\n",
    "\n",
    "items=student.items() ##get all key value pairs\n",
    "print(items)\n"
   ]
  },
  {
   "cell_type": "code",
   "execution_count": 7,
   "id": "90c21483",
   "metadata": {},
   "outputs": [
    {
     "name": "stdout",
     "output_type": "stream",
     "text": [
      "21\n",
      "{'name': 'Aisha', 'age': 21}\n"
     ]
    }
   ],
   "source": [
    "student = {\"name\": \"Aisha\", \"age\": 21}\n",
    "\n",
    "# 'age' already exists\n",
    "print(student.setdefault(\"age\", 30))  \n",
    "print(student)  \n"
   ]
  },
  {
   "cell_type": "code",
   "execution_count": 1,
   "id": "5c214a19",
   "metadata": {},
   "outputs": [],
   "source": [
    "student = {\"name\": \"Aisha\", \"age\": 21, \"grade\": \"A\"}\n"
   ]
  },
  {
   "cell_type": "code",
   "execution_count": 2,
   "id": "bc9c09e5",
   "metadata": {},
   "outputs": [
    {
     "name": "stdout",
     "output_type": "stream",
     "text": [
      "dict_items([('name', 'Aisha'), ('age', 21), ('grade', 'A')])\n"
     ]
    }
   ],
   "source": [
    "print(student.items())  # dict_items([('name','Aisha'), ('age',21), ('grade','A')])\n"
   ]
  },
  {
   "cell_type": "code",
   "execution_count": null,
   "id": "ebfda255",
   "metadata": {},
   "outputs": [],
   "source": [
    "import random()\n"
   ]
  }
 ],
 "metadata": {
  "kernelspec": {
   "display_name": "Python 3",
   "language": "python",
   "name": "python3"
  },
  "language_info": {
   "codemirror_mode": {
    "name": "ipython",
    "version": 3
   },
   "file_extension": ".py",
   "mimetype": "text/x-python",
   "name": "python",
   "nbconvert_exporter": "python",
   "pygments_lexer": "ipython3",
   "version": "3.13.7"
  }
 },
 "nbformat": 4,
 "nbformat_minor": 5
}
