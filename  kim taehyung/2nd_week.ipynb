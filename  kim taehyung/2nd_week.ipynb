{
 "cells": [
  {
   "cell_type": "code",
   "execution_count": 88,
   "id": "2634a23d",
   "metadata": {},
   "outputs": [
    {
     "name": "stdout",
     "output_type": "stream",
     "text": [
      "Hello Talha Welcome To the paradise\n"
     ]
    }
   ],
   "source": [
    "def greet(name=\"Guest\"):\n",
    "  print(f\"Hello {name} Welcome To the paradise\")\n",
    "\n",
    "greet(\"Talha\")\n",
    "\n"
   ]
  },
  {
   "cell_type": "code",
   "execution_count": 89,
   "id": "22e219a3",
   "metadata": {},
   "outputs": [],
   "source": [
    "def numbers(*ayesha):\n",
    "    for number in ayesha:\n",
    "     \n",
    "     print(number)\n",
    "       "
   ]
  },
  {
   "cell_type": "code",
   "execution_count": 90,
   "id": "01df5813",
   "metadata": {},
   "outputs": [
    {
     "name": "stdout",
     "output_type": "stream",
     "text": [
      "1\n",
      "2\n",
      "3\n",
      "4\n",
      "5\n"
     ]
    }
   ],
   "source": [
    "numbers(1,2,3,4,5)"
   ]
  },
  {
   "cell_type": "code",
   "execution_count": 91,
   "id": "4f40476f",
   "metadata": {},
   "outputs": [
    {
     "name": "stdout",
     "output_type": "stream",
     "text": [
      "5\n"
     ]
    }
   ],
   "source": [
    "def add(a,b):\n",
    "    return a+b\n",
    "res = add(2,3)\n",
    "print(res)"
   ]
  },
  {
   "cell_type": "code",
   "execution_count": 92,
   "id": "bc2fd4fd",
   "metadata": {},
   "outputs": [
    {
     "name": "stdout",
     "output_type": "stream",
     "text": [
      "hello Ayesha welcome to paradise\n"
     ]
    }
   ],
   "source": [
    "def greet(name):\n",
    "    print(f\"hello {name} welcome to paradise\")\n",
    "greet(\"Ayesha\")"
   ]
  },
  {
   "cell_type": "markdown",
   "id": "da66f1bf",
   "metadata": {},
   "source": [
    "🔹 *args in Python\n",
    "\n",
    "*args lets a function accept any number of positional arguments.\n",
    "\n",
    "Inside the function, all the passed values are stored in a tuple.\n",
    "\n",
    "You can loop through them or access them by index.\n",
    "This function accepts any number of arguments (numbers, strings, etc.) and prints each on a new line.\n",
    "*args = \"collect all extra positional arguments into a tuple.\""
   ]
  },
  {
   "cell_type": "code",
   "execution_count": 93,
   "id": "53d9ed6e",
   "metadata": {},
   "outputs": [
    {
     "name": "stdout",
     "output_type": "stream",
     "text": [
      "1\n",
      "2\n",
      "3\n",
      "4\n",
      "5\n",
      "ayesha\n"
     ]
    }
   ],
   "source": [
    "def print_numbers(*ayesha):\n",
    "    for num in ayesha:\n",
    "        print(num)\n",
    "print_numbers(1,2,3,4,5,\"ayesha\")"
   ]
  },
  {
   "cell_type": "markdown",
   "id": "16a77ca1",
   "metadata": {},
   "source": [
    "*args\n",
    "\n",
    "Used to pass any number of positional arguments (without keywords).\n",
    "\n",
    "Inside the function, they are stored in a tuple.\n",
    "\n",
    "**kwargs\n",
    "\n",
    "Used to pass any number of keyword arguments (with key=value).\n",
    "\n",
    "Inside the function, they are stored in a dictionary.\n",
    "*args → collects extra values into a tuple.\n",
    "\n",
    "**kwargs → collects extra key-value pairs into a dictionary."
   ]
  },
  {
   "cell_type": "code",
   "execution_count": 94,
   "id": "95c3ff4e",
   "metadata": {},
   "outputs": [
    {
     "name": "stdout",
     "output_type": "stream",
     "text": [
      "positional arguments:1\n",
      "positional arguments:2\n",
      "positional arguments:3\n",
      "positional arguments:4\n",
      "name:aysh\n",
      "age:22\n"
     ]
    }
   ],
   "source": [
    "def print_details(*args,**kwargs):\n",
    "    for val in args:\n",
    "        print(f\"positional arguments:{val}\")\n",
    "    for key,value in kwargs.items():\n",
    "        print(f\"{key}:{value}\")\n",
    "print_details(1, 2, 3, 4, name=\"aysh\", age=22)\n",
    "            "
   ]
  },
  {
   "cell_type": "code",
   "execution_count": 95,
   "id": "4202b5a3",
   "metadata": {},
   "outputs": [
    {
     "name": "stdout",
     "output_type": "stream",
     "text": [
      "30\n"
     ]
    }
   ],
   "source": [
    "def multiply (a,b):\n",
    "    return a*b\n",
    "print(multiply(5,6))"
   ]
  },
  {
   "cell_type": "code",
   "execution_count": 96,
   "id": "541b3cfc",
   "metadata": {},
   "outputs": [
    {
     "name": "stdout",
     "output_type": "stream",
     "text": [
      "77.0\n",
      "25.0\n"
     ]
    }
   ],
   "source": [
    "def convert_temperature(temp,unit):\n",
    "    if unit=='C':\n",
    "        return temp* 9/5 +32\n",
    "    if unit=='F':\n",
    "        return (temp-32)*5/9\n",
    "    else:\n",
    "        return None\n",
    "print(convert_temperature(25,'C'))\n",
    "print(convert_temperature(77,'F'))\n",
    "\n"
   ]
  },
  {
   "cell_type": "code",
   "execution_count": 97,
   "id": "a10f8106",
   "metadata": {},
   "outputs": [
    {
     "name": "stdout",
     "output_type": "stream",
     "text": [
      "2.6\n"
     ]
    }
   ],
   "source": [
    "def calculate_total_cost(cart):\n",
    "    total_cost = 0\n",
    "    for item in cart:\n",
    "        total_cost+= item['price']*item['quantity']\n",
    "    return total_cost\n",
    "    \n",
    "cart =[\n",
    "    {'name':'apple','price':0.5 ,'quantity':4 },\n",
    "    {'name':'banana','price':0.2,'quantity':3} ] \n",
    "total_cost = calculate_total_cost(cart)\n",
    "print(total_cost) "
   ]
  },
  {
   "cell_type": "markdown",
   "id": "2164e1f9",
   "metadata": {},
   "source": [
    "What is a Lambda Function?\n",
    "\n",
    "A lambda function in Python is a small, anonymous function (function without a name).\n",
    "It is often used when you need a function just once or for a short task.\n",
    "\n",
    "Normal function → defined with def.\n",
    "\n",
    "Lambda function → defined with lambda.\n",
    "syntax:lambda arguments: expression\n"
   ]
  },
  {
   "cell_type": "code",
   "execution_count": 98,
   "id": "b7efdb04",
   "metadata": {},
   "outputs": [
    {
     "name": "stdout",
     "output_type": "stream",
     "text": [
      "36\n"
     ]
    }
   ],
   "source": [
    "square = lambda x:x*x\n",
    "print(square(6))"
   ]
  },
  {
   "cell_type": "code",
   "execution_count": 99,
   "id": "51b3577d",
   "metadata": {},
   "outputs": [
    {
     "data": {
      "text/plain": [
       "False"
      ]
     },
     "execution_count": 99,
     "metadata": {},
     "output_type": "execute_result"
    }
   ],
   "source": [
    "even1 =lambda num:num%2==0\n",
    "even1(11)"
   ]
  },
  {
   "cell_type": "markdown",
   "id": "9164d7de",
   "metadata": {},
   "source": [
    "map"
   ]
  },
  {
   "cell_type": "code",
   "execution_count": 100,
   "id": "c1214418",
   "metadata": {},
   "outputs": [
    {
     "name": "stdout",
     "output_type": "stream",
     "text": [
      "[1, 4, 9, 16, 25]\n"
     ]
    }
   ],
   "source": [
    "numbers = [1, 2, 3, 4, 5]\n",
    "squares = list(map(square, numbers))   # using the square function\n",
    "print(squares)\n"
   ]
  },
  {
   "cell_type": "code",
   "execution_count": 101,
   "id": "741599a6",
   "metadata": {},
   "outputs": [
    {
     "name": "stdout",
     "output_type": "stream",
     "text": [
      "[1, 4, 16, 36, 64]\n"
     ]
    }
   ],
   "source": [
    "numbers =[1,2,4,6,8]\n",
    "squares= list(map(lambda x:x*x,numbers))\n",
    "print (squares)"
   ]
  },
  {
   "cell_type": "markdown",
   "id": "452863b6",
   "metadata": {},
   "source": [
    "1. Git\n",
    "\n",
    "What it is: A version control system (VCS).\n",
    "\n",
    "Purpose: Helps you track changes in code, manage versions, and collaborate with others.\n",
    "\n",
    "Where it lives: On your computer (installed locally).\n",
    "\n",
    "How it works:\n",
    "\n",
    "You create a repository (git init).\n",
    "\n",
    "Git tracks changes in files.\n",
    "\n",
    "You can commit (save) changes, go back to old versions, and branch your code.\n",
    "\n"
   ]
  },
  {
   "cell_type": "markdown",
   "id": "996df305",
   "metadata": {},
   "source": [
    "2. GitHub\n",
    "\n",
    "What it is: A web-based platform that hosts Git repositories online.\n",
    "\n",
    "Purpose: Makes it easy to share your code, collaborate with teams, and contribute to open source.\n",
    "\n",
    "Where it lives: On the cloud (GitHub’s servers).\n",
    "\n",
    "How it works:\n",
    "\n",
    "You push your local Git repository to GitHub (git push).\n",
    "\n",
    "Others can see it, clone it, and contribute.\n",
    "\n",
    "GitHub also adds features like Issues, Pull Requests, Wikis, and Actions (CI/CD)."
   ]
  },
  {
   "cell_type": "code",
   "execution_count": null,
   "id": "e688c656",
   "metadata": {},
   "outputs": [],
   "source": []
  },
  {
   "cell_type": "markdown",
   "id": "4b73bffe",
   "metadata": {},
   "source": [
    "IMPORTS\n"
   ]
  },
  {
   "cell_type": "code",
   "execution_count": 102,
   "id": "bc063a18",
   "metadata": {},
   "outputs": [
    {
     "name": "stdout",
     "output_type": "stream",
     "text": [
      "4.0\n",
      "5.0\n",
      "3.141592653589793\n"
     ]
    }
   ],
   "source": [
    "from math import sqrt ,pi\n",
    "print(sqrt(16))\n",
    "print(sqrt(25))\n",
    "print(pi)"
   ]
  },
  {
   "cell_type": "markdown",
   "id": "2baa92ab",
   "metadata": {},
   "source": [
    "This imports the NumPy library and gives it the short name np.\n",
    "\n",
    "numpy provides fast array objects and many numerical functions. Using np is a common convention so you can call np.array, np.sum, etc."
   ]
  },
  {
   "cell_type": "code",
   "execution_count": 103,
   "id": "1ec0fd9e",
   "metadata": {},
   "outputs": [
    {
     "data": {
      "text/plain": [
       "array([1, 2, 3, 4])"
      ]
     },
     "execution_count": 103,
     "metadata": {},
     "output_type": "execute_result"
    }
   ],
   "source": [
    "import numpy as np \n",
    "np.array([1,2,3,4])"
   ]
  },
  {
   "cell_type": "markdown",
   "id": "6851da25",
   "metadata": {},
   "source": [
    "from math import *\n",
    "\n",
    "Python has a built-in module called math.\n",
    "\n",
    "This module gives you mathematical functions and constants (like square root, sine, cosine, π, e, etc.).\n",
    "\n",
    "The * means “import everything” from the math module.\n",
    "\n",
    "After this, you can directly use functions like sqrt(), sin(), cos(), pi, etc. without writing math. before them."
   ]
  },
  {
   "cell_type": "code",
   "execution_count": 104,
   "id": "f5dfd341",
   "metadata": {},
   "outputs": [
    {
     "name": "stdout",
     "output_type": "stream",
     "text": [
      "4.0\n"
     ]
    }
   ],
   "source": [
    "from math import *\n",
    "print(sqrt(16))\n"
   ]
  },
  {
   "cell_type": "markdown",
   "id": "78ea912a",
   "metadata": {},
   "source": [
    "1. import random\n",
    "\n",
    "The random module is used to generate random numbers."
   ]
  },
  {
   "cell_type": "code",
   "execution_count": 105,
   "id": "b223cbac",
   "metadata": {},
   "outputs": [
    {
     "name": "stdout",
     "output_type": "stream",
     "text": [
      "4\n",
      "0.8888206273012241\n",
      "juice\n"
     ]
    }
   ],
   "source": [
    "import random \n",
    "print(random.randint(1,10))\n",
    "print(random.random())  # Random float between 0.0 and 1.0\n",
    "print(random.choice(['tea','cold drink','juice'])) # Pick random item"
   ]
  },
  {
   "cell_type": "markdown",
   "id": "e4e68264",
   "metadata": {},
   "source": [
    "2. import os\n",
    "\n",
    "The os module lets you interact with the operating system (files, folders, paths)."
   ]
  },
  {
   "cell_type": "code",
   "execution_count": 106,
   "id": "83fe9eec",
   "metadata": {},
   "outputs": [
    {
     "name": "stdout",
     "output_type": "stream",
     "text": [
      "c:\\Users\\SYS\\Desktop\\navttc\n",
      "[' kim taehyung', '1st_assgn.ipynb', '1st_day.ipynb', '2nd_day.ipynb', '2nd_week.ipynb', '5th_day.ipynb', 'a.txt', 'packages', 'python_prac.ipynb', 'pyth_assgn.ipynb']\n"
     ]
    },
    {
     "ename": "FileExistsError",
     "evalue": "[WinError 183] Cannot create a file when that file already exists: ' kim taehyung'",
     "output_type": "error",
     "traceback": [
      "\u001b[31m---------------------------------------------------------------------------\u001b[39m",
      "\u001b[31mFileExistsError\u001b[39m                           Traceback (most recent call last)",
      "\u001b[36mCell\u001b[39m\u001b[36m \u001b[39m\u001b[32mIn[106]\u001b[39m\u001b[32m, line 4\u001b[39m\n\u001b[32m      2\u001b[39m \u001b[38;5;28mprint\u001b[39m(os.getcwd()) \u001b[38;5;66;03m# Current working directory\u001b[39;00m\n\u001b[32m      3\u001b[39m \u001b[38;5;28mprint\u001b[39m(os.listdir()) \u001b[38;5;66;03m# List of files in current directory\u001b[39;00m\n\u001b[32m----> \u001b[39m\u001b[32m4\u001b[39m \u001b[38;5;28mprint\u001b[39m(\u001b[43mos\u001b[49m\u001b[43m.\u001b[49m\u001b[43mmkdir\u001b[49m\u001b[43m(\u001b[49m\u001b[33;43m\"\u001b[39;49m\u001b[33;43m kim taehyung\u001b[39;49m\u001b[33;43m\"\u001b[39;49m\u001b[43m)\u001b[49m)\n",
      "\u001b[31mFileExistsError\u001b[39m: [WinError 183] Cannot create a file when that file already exists: ' kim taehyung'"
     ]
    }
   ],
   "source": [
    "import os\n",
    "print(os.getcwd()) # Current working directory\n",
    "print(os.listdir()) # List of files in current directory\n",
    "print(os.mkdir(\" kim taehyung\"))"
   ]
  },
  {
   "cell_type": "markdown",
   "id": "67359eb2",
   "metadata": {},
   "source": [
    "import os   # os module helps with file and directory operations\n",
    "\n",
    "# Define a folder (directory) name\n",
    "dir_name = \"folder\"\n",
    "\n",
    "# Define a file name\n",
    "file_name = \"file.txt\"\n",
    "\n",
    "# Join them into a single path (folder + file)\n",
    "full_path = os.path.join(dir_name, file_name)\n",
    "\n",
    "# Print the result\n",
    "print(full_path)\n"
   ]
  },
  {
   "cell_type": "markdown",
   "id": "ce633ce3",
   "metadata": {},
   "source": [
    "3. import shutil\n",
    "\n",
    "The shutil module is for file operations (copy, move, delete)."
   ]
  },
  {
   "cell_type": "code",
   "execution_count": null,
   "id": "d21d6f21",
   "metadata": {},
   "outputs": [],
   "source": [
    "import shutil\n",
    "# shutil.copy(\"file.txt\", \"backup.txt\")   # Copy file\n",
    "# shutil.move(\"file.txt\", \"new_folder/\") # Move file"
   ]
  },
  {
   "cell_type": "markdown",
   "id": "6833fc7b",
   "metadata": {},
   "source": [
    "4. from datetime import datetime, timedelta\n",
    "\n",
    "The datetime module deals with dates and times.\n",
    "\n",
    "datetime → current date and time.\n",
    "\n",
    "timedelta → used to add or subtract time."
   ]
  },
  {
   "cell_type": "code",
   "execution_count": null,
   "id": "f7f52581",
   "metadata": {},
   "outputs": [
    {
     "name": "stdout",
     "output_type": "stream",
     "text": [
      "Now 2025-09-11 11:09:55.378918\n",
      "yesterday: 2025-09-10 11:09:55.378918\n",
      "tomorrow: 2025-09-12 11:09:55.378918\n"
     ]
    }
   ],
   "source": [
    "from datetime import datetime, timedelta\n",
    "now = datetime.now()\n",
    "print(\"Now\",now)\n",
    "yesterday = now- timedelta(days=1)\n",
    "print(\"yesterday:\",yesterday)\n",
    "tomorrow = now + timedelta(days=1)\n",
    "print(\"tomorrow:\",tomorrow)"
   ]
  },
  {
   "cell_type": "code",
   "execution_count": null,
   "id": "4336c195",
   "metadata": {},
   "outputs": [],
   "source": []
  },
  {
   "cell_type": "markdown",
   "id": "2639ea68",
   "metadata": {},
   "source": [
    "What is JSON?\n",
    "\n",
    "JSON (JavaScript Object Notation) is a lightweight text format for storing/transmitting structured data. It’s language-agnostic.\n",
    "Common uses: APIs, config files, saving program state, sending data over the web."
   ]
  },
  {
   "cell_type": "code",
   "execution_count": null,
   "id": "992a31ce",
   "metadata": {},
   "outputs": [
    {
     "name": "stdout",
     "output_type": "stream",
     "text": [
      "{\"name\": \"aysh\", \"age\": 22, \"subject\": \"data analystics\"}\n",
      "<class 'str'>\n",
      "{'name': 'aysh', 'age': 22, 'subject': 'data analystics'}\n",
      "<class 'dict'>\n"
     ]
    }
   ],
   "source": [
    "import json \n",
    "data = {\"name\":\"aysh\",\"age\":22,\"subject\":\"data analystics\"} # Step 2: Create a Python dictionary (normal Python data structure)\n",
    "json_str = json.dumps(data)# Step 3: Convert (serialize) Python dictionary into a JSON string\n",
    "# Print the JSON string (it looks like text, not Python dict)\n",
    "print(json_str)  # Output: {\"name\": \"Talha\", \"age\": 30}\n",
    "print(type(json_str))\n",
    "# Step 4: Convert (deserialize) JSON string back into a Python dictionary\n",
    "pyth_obj = json.loads(json_str)\n",
    "print(pyth_obj)\n",
    "print(type(pyth_obj))"
   ]
  },
  {
   "cell_type": "code",
   "execution_count": null,
   "id": "532a1ef0",
   "metadata": {},
   "outputs": [
    {
     "data": {
      "text/plain": [
       "'{\"age\": 22, \"name\": \"aysh\", \"subject\": \"data analystics\"}'"
      ]
     },
     "execution_count": 20,
     "metadata": {},
     "output_type": "execute_result"
    }
   ],
   "source": [
    "#json.dumps(data, indent=2)          # pretty-print with new lines and 2-space indent\n",
    "json.dumps(data, sort_keys=True)    # keys sorted alphabetically\n",
    "#json.dumps(data, ensure_ascii=False)# allow non-ASCII (useful for other languages)\n",
    "#json.dumps(data, separators=(',',':')) # remove spaces to make compact JSON\n"
   ]
  },
  {
   "cell_type": "markdown",
   "id": "f68d5fc5",
   "metadata": {},
   "source": [
    "File Handling Basics: \n",
    "with open (\"example.txt\",'r') as file:\n",
    "\n",
    "    content =file.read()\n",
    "    print(content)\n",
    "\n",
    "with open (\"example.txt\",'w') as file:\n",
    "    file.write('hello world\\n')\n",
    "    \n",
    "with open (\"example.txt\",'a') as file:\n",
    "    file.write('hello\\n')\n",
    "\n",
    "\n",
    "Extra: Common Methods\n",
    "\n",
    "file.read() → reads the whole file.\n",
    "\n",
    "file.readline() → reads one line.\n",
    "\n",
    "file.readlines() → reads all lines into a list.\n",
    "\n",
    "file.write(\"text\") → writes text (string).\n",
    "\n",
    "file.writelines(list_of_strings) → writes multiple lines."
   ]
  },
  {
   "cell_type": "code",
   "execution_count": null,
   "id": "9ffe66ff",
   "metadata": {},
   "outputs": [],
   "source": []
  },
  {
   "cell_type": "markdown",
   "id": "3cf49e08",
   "metadata": {},
   "source": [
    "\".\" → current directory (like saying \"here\").\n",
    "\n",
    "\"./file.txt\" → file.txt in the current folder.\n",
    "\n",
    "\"/\" → separator between folders.\n",
    "\n",
    "\"folder/file.txt\" → means file.txt is inside the folder."
   ]
  },
  {
   "cell_type": "code",
   "execution_count": null,
   "id": "d7789fb1",
   "metadata": {},
   "outputs": [],
   "source": []
  },
  {
   "cell_type": "markdown",
   "id": "216f2472",
   "metadata": {},
   "source": [
    "What is an Exception?\n",
    "\n",
    "An exception is an error that happens while the program is running.\n",
    "\n",
    "When it occurs, Python stops the program unless you handle it."
   ]
  },
  {
   "cell_type": "code",
   "execution_count": null,
   "id": "b470e202",
   "metadata": {},
   "outputs": [
    {
     "name": "stdout",
     "output_type": "stream",
     "text": [
      "you cannot divide number by zero \n"
     ]
    }
   ],
   "source": [
    "try:\n",
    "\n",
    "    x=10\n",
    "    y=0\n",
    "    print(x/y)\n",
    "except ZeroDivisionError:\n",
    "    print(\"you cannot divide number by zero \")\n",
    "\n"
   ]
  },
  {
   "cell_type": "code",
   "execution_count": null,
   "id": "031b338e",
   "metadata": {},
   "outputs": [
    {
     "ename": "NameError",
     "evalue": "name 'Print' is not defined",
     "output_type": "error",
     "traceback": [
      "\u001b[31m---------------------------------------------------------------------------\u001b[39m",
      "\u001b[31mFileNotFoundError\u001b[39m                         Traceback (most recent call last)",
      "\u001b[36mCell\u001b[39m\u001b[36m \u001b[39m\u001b[32mIn[46]\u001b[39m\u001b[32m, line 2\u001b[39m\n\u001b[32m      1\u001b[39m \u001b[38;5;28;01mtry\u001b[39;00m:\n\u001b[32m----> \u001b[39m\u001b[32m2\u001b[39m     file = \u001b[38;5;28;43mopen\u001b[39;49m\u001b[43m(\u001b[49m\u001b[33;43m\"\u001b[39;49m\u001b[33;43mmissing.txt\u001b[39;49m\u001b[33;43m\"\u001b[39;49m\u001b[43m,\u001b[49m\u001b[43m \u001b[49m\u001b[33;43m\"\u001b[39;49m\u001b[33;43mr\u001b[39;49m\u001b[33;43m\"\u001b[39;49m\u001b[43m)\u001b[49m \n\u001b[32m      3\u001b[39m \u001b[38;5;28;01mexcept\u001b[39;00m \u001b[38;5;167;01mFileNotFoundError\u001b[39;00m:\n",
      "\u001b[36mFile \u001b[39m\u001b[32mc:\\Users\\SYS\\AppData\\Local\\Programs\\Python\\Python313\\Lib\\site-packages\\IPython\\core\\interactiveshell.py:343\u001b[39m, in \u001b[36m_modified_open\u001b[39m\u001b[34m(file, *args, **kwargs)\u001b[39m\n\u001b[32m    337\u001b[39m     \u001b[38;5;28;01mraise\u001b[39;00m \u001b[38;5;167;01mValueError\u001b[39;00m(\n\u001b[32m    338\u001b[39m         \u001b[33mf\u001b[39m\u001b[33m\"\u001b[39m\u001b[33mIPython won\u001b[39m\u001b[33m'\u001b[39m\u001b[33mt let you open fd=\u001b[39m\u001b[38;5;132;01m{\u001b[39;00mfile\u001b[38;5;132;01m}\u001b[39;00m\u001b[33m by default \u001b[39m\u001b[33m\"\u001b[39m\n\u001b[32m    339\u001b[39m         \u001b[33m\"\u001b[39m\u001b[33mas it is likely to crash IPython. If you know what you are doing, \u001b[39m\u001b[33m\"\u001b[39m\n\u001b[32m    340\u001b[39m         \u001b[33m\"\u001b[39m\u001b[33myou can use builtins\u001b[39m\u001b[33m'\u001b[39m\u001b[33m open.\u001b[39m\u001b[33m\"\u001b[39m\n\u001b[32m    341\u001b[39m     )\n\u001b[32m--> \u001b[39m\u001b[32m343\u001b[39m \u001b[38;5;28;01mreturn\u001b[39;00m \u001b[43mio_open\u001b[49m\u001b[43m(\u001b[49m\u001b[43mfile\u001b[49m\u001b[43m,\u001b[49m\u001b[43m \u001b[49m\u001b[43m*\u001b[49m\u001b[43margs\u001b[49m\u001b[43m,\u001b[49m\u001b[43m \u001b[49m\u001b[43m*\u001b[49m\u001b[43m*\u001b[49m\u001b[43mkwargs\u001b[49m\u001b[43m)\u001b[49m\n",
      "\u001b[31mFileNotFoundError\u001b[39m: [Errno 2] No such file or directory: 'missing.txt'",
      "\nDuring handling of the above exception, another exception occurred:\n",
      "\u001b[31mNameError\u001b[39m                                 Traceback (most recent call last)",
      "\u001b[36mCell\u001b[39m\u001b[36m \u001b[39m\u001b[32mIn[46]\u001b[39m\u001b[32m, line 4\u001b[39m\n\u001b[32m      2\u001b[39m     file = \u001b[38;5;28mopen\u001b[39m(\u001b[33m\"\u001b[39m\u001b[33mmissing.txt\u001b[39m\u001b[33m\"\u001b[39m, \u001b[33m\"\u001b[39m\u001b[33mr\u001b[39m\u001b[33m\"\u001b[39m) \n\u001b[32m      3\u001b[39m \u001b[38;5;28;01mexcept\u001b[39;00m \u001b[38;5;167;01mFileNotFoundError\u001b[39;00m:\n\u001b[32m----> \u001b[39m\u001b[32m4\u001b[39m     \u001b[43mPrint\u001b[49m(\u001b[33m\"\u001b[39m\u001b[33mNOT FOUND\u001b[39m\u001b[33m\"\u001b[39m)\n",
      "\u001b[31mNameError\u001b[39m: name 'Print' is not defined"
     ]
    }
   ],
   "source": [
    "try:\n",
    "    file = open(\"missing.txt\", \"r\") \n",
    "except FileNotFoundError:\n",
    "    Print(\"NOT FOUND\")"
   ]
  },
  {
   "cell_type": "code",
   "execution_count": null,
   "id": "8893a7a3",
   "metadata": {},
   "outputs": [
    {
     "name": "stdout",
     "output_type": "stream",
     "text": [
      "The variable has not been assigned\n"
     ]
    }
   ],
   "source": [
    "try:\n",
    "  a=b\n",
    "except:\n",
    "  print(\"The variable has not been assigned\")\n"
   ]
  },
  {
   "cell_type": "code",
   "execution_count": null,
   "id": "4374d18f",
   "metadata": {},
   "outputs": [
    {
     "name": "stdout",
     "output_type": "stream",
     "text": [
      "name 'b' is not defined\n"
     ]
    }
   ],
   "source": [
    "try:\n",
    "  a=b\n",
    "except NameError as ex:\n",
    "  print(ex)\n",
    "\n"
   ]
  },
  {
   "cell_type": "code",
   "execution_count": null,
   "id": "989cbbc1",
   "metadata": {},
   "outputs": [
    {
     "name": "stdout",
     "output_type": "stream",
     "text": [
      "name 'b' is not defined\n",
      "Main exception got caught here\n"
     ]
    }
   ],
   "source": [
    "try:\n",
    "  result=1/2\n",
    "  a=b\n",
    "except ZeroDivisionError as ex:\n",
    "  print(ex)\n",
    "  print(\"Please enter the denominator greater than 0\")\n",
    "except Exception as ex1:\n",
    "  print(ex1)\n",
    "  print('Main exception got caught here')\n",
    "\n"
   ]
  },
  {
   "cell_type": "code",
   "execution_count": null,
   "id": "4d5118bd",
   "metadata": {},
   "outputs": [],
   "source": []
  },
  {
   "cell_type": "markdown",
   "id": "204af113",
   "metadata": {},
   "source": [
    "1. Iterators\n",
    "What are Iterators?\n",
    "\n",
    "An iterator is an object that lets you loop through a collection (like lists, tuples, etc.).\n",
    "\n",
    "It remembers its position and gives the next item when asked.\n",
    "\n",
    "How it works?\n",
    "\n",
    "Uses two main methods:\n",
    "\n",
    "__iter__() → returns the iterator object itself.\n",
    "\n",
    "__next__() → returns the next value."
   ]
  },
  {
   "cell_type": "code",
   "execution_count": 4,
   "id": "8d5c570e",
   "metadata": {},
   "outputs": [
    {
     "name": "stdout",
     "output_type": "stream",
     "text": [
      "1\n",
      "2\n"
     ]
    }
   ],
   "source": [
    "numbers= [1,2,4,5]\n",
    "it = iter(numbers)\n",
    "print(next(it))\n",
    "print(next(it))\n"
   ]
  },
  {
   "cell_type": "markdown",
   "id": "4d5a2a99",
   "metadata": {},
   "source": [
    "2. Generators\n",
    "What are Generators?\n",
    "\n",
    "A generator is a special function that produces a sequence of values one at a time using yield.\n",
    "\n",
    "They are memory efficient because they don’t store all values at once."
   ]
  },
  {
   "cell_type": "code",
   "execution_count": 108,
   "id": "09406749",
   "metadata": {},
   "outputs": [
    {
     "name": "stdout",
     "output_type": "stream",
     "text": [
      "1\n",
      "2\n",
      "3\n"
     ]
    }
   ],
   "source": [
    "def simple_generator():\n",
    "    yield 1\n",
    "    yield 2\n",
    "    yield 3\n",
    "\n",
    "for value in simple_generator():\n",
    "    print(value)\n"
   ]
  },
  {
   "cell_type": "markdown",
   "id": "fd28059e",
   "metadata": {},
   "source": [
    ". Decorators\n",
    " decorators are the function that take funactions as arguments and also returns functuions.\n",
    "\n",
    "A decorator is a function that modifies another function without changing its code.\n",
    "\n",
    "Often used for logging, authentication, performance checking, etc."
   ]
  },
  {
   "cell_type": "code",
   "execution_count": 110,
   "id": "f0e23af6",
   "metadata": {},
   "outputs": [
    {
     "data": {
      "text/plain": [
       "<function __main__.my_decoraters.<locals>.wrapper()>"
      ]
     },
     "execution_count": 110,
     "metadata": {},
     "output_type": "execute_result"
    }
   ],
   "source": [
    "def my_decoraters(func):\n",
    "    def wrapper():\n",
    "        print(\"Before function call\")\n",
    "        func()\n",
    "        print(\"After function call\")\n",
    "    return wrapper\n",
    "@my_decoraters\n",
    "def say_hello():\n",
    "    print(\"hello\")\n",
    "say_hello   "
   ]
  },
  {
   "cell_type": "markdown",
   "id": "928d556c",
   "metadata": {},
   "source": [
    "This program defines a decorator called my_decorator that takes a function as input. Inside it, another function wrapper() is defined which:\n",
    "\n",
    "Prints \"Before function call\".\n",
    "\n",
    "Runs the original function (func()).\n",
    "\n",
    "Prints \"After function call\".\n",
    "\n",
    "When you use @my_decorator above say_hello(), Python automatically passes say_hello into my_decorator, so say_hello now actually refers to the wrapper() function.\n",
    "\n",
    "So, when say_hello() is called:\n",
    "\n",
    "It first runs the extra code \"Before function call\".\n",
    "\n",
    "Then runs the original say_hello code (\"Hello!\").\n",
    "\n",
    "Finally runs \"After function call\".\n",
    "\n",
    "👉 In short: The decorator adds extra behavior before and after the original function without changing the function itself."
   ]
  },
  {
   "cell_type": "code",
   "execution_count": null,
   "id": "8a2aea16",
   "metadata": {},
   "outputs": [],
   "source": []
  },
  {
   "cell_type": "code",
   "execution_count": null,
   "id": "f04e1fd3",
   "metadata": {},
   "outputs": [],
   "source": []
  }
 ],
 "metadata": {
  "kernelspec": {
   "display_name": "Python 3",
   "language": "python",
   "name": "python3"
  },
  "language_info": {
   "codemirror_mode": {
    "name": "ipython",
    "version": 3
   },
   "file_extension": ".py",
   "mimetype": "text/x-python",
   "name": "python",
   "nbconvert_exporter": "python",
   "pygments_lexer": "ipython3",
   "version": "3.13.7"
  }
 },
 "nbformat": 4,
 "nbformat_minor": 5
}
