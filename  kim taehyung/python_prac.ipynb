{
 "cells": [
  {
   "cell_type": "code",
   "execution_count": 177,
   "id": "cbf2dd1a",
   "metadata": {},
   "outputs": [
    {
     "name": "stdout",
     "output_type": "stream",
     "text": [
      "<class 'list'>\n"
     ]
    }
   ],
   "source": [
    "lst=[]\n",
    "print(type(lst))"
   ]
  },
  {
   "cell_type": "code",
   "execution_count": 178,
   "id": "f68e06c0",
   "metadata": {},
   "outputs": [
    {
     "data": {
      "text/plain": [
       "list"
      ]
     },
     "execution_count": 178,
     "metadata": {},
     "output_type": "execute_result"
    }
   ],
   "source": [
    "type(lst)"
   ]
  },
  {
   "cell_type": "code",
   "execution_count": 179,
   "id": "c5baa044",
   "metadata": {},
   "outputs": [
    {
     "name": "stdout",
     "output_type": "stream",
     "text": [
      "['ayesha', 'batool', 1, True]\n"
     ]
    }
   ],
   "source": [
    "names=[\"ayesha\",\"batool\",1,True]\n",
    "print(names)"
   ]
  },
  {
   "cell_type": "code",
   "execution_count": 180,
   "id": "423218bc",
   "metadata": {},
   "outputs": [
    {
     "name": "stdout",
     "output_type": "stream",
     "text": [
      "['batool', 1, True]\n"
     ]
    }
   ],
   "source": [
    "print(names[1:])"
   ]
  },
  {
   "cell_type": "code",
   "execution_count": 181,
   "id": "2374b671",
   "metadata": {},
   "outputs": [
    {
     "name": "stdout",
     "output_type": "stream",
     "text": [
      "['ayesha', 'batool', 1, True, 'ayesha']\n"
     ]
    }
   ],
   "source": [
    "names.append(\"ayesha\")\n",
    "print(names)"
   ]
  },
  {
   "cell_type": "code",
   "execution_count": 182,
   "id": "fbe747a1",
   "metadata": {},
   "outputs": [
    {
     "name": "stdout",
     "output_type": "stream",
     "text": [
      "['ayesha', 'batool', 1, True, 'ayesha']\n"
     ]
    }
   ],
   "source": [
    "#names.remove(\"ayesha\")\n",
    "print(names)"
   ]
  },
  {
   "cell_type": "code",
   "execution_count": 183,
   "id": "9e93e81a",
   "metadata": {},
   "outputs": [
    {
     "name": "stdout",
     "output_type": "stream",
     "text": [
      "ayesha\n"
     ]
    }
   ],
   "source": [
    "print(names[-1])"
   ]
  },
  {
   "cell_type": "code",
   "execution_count": 184,
   "id": "7d5d15c2",
   "metadata": {},
   "outputs": [
    {
     "name": "stdout",
     "output_type": "stream",
     "text": [
      "ayesha\n",
      "['ayesha', 'batool', 1, True]\n"
     ]
    }
   ],
   "source": [
    "popped_names= names.pop()\n",
    "print(popped_names)\n",
    "print(names)"
   ]
  },
  {
   "cell_type": "code",
   "execution_count": 185,
   "id": "107d0d0a",
   "metadata": {},
   "outputs": [
    {
     "name": "stdout",
     "output_type": "stream",
     "text": [
      "2\n",
      "['ayesha', 'batool', 'ayesha', 1, True]\n"
     ]
    }
   ],
   "source": [
    "names.insert(2,\"ayesha\")\n",
    "print(names.count(\"ayesha\"))\n",
    "print(names)"
   ]
  },
  {
   "cell_type": "code",
   "execution_count": 186,
   "id": "5cb6d6d6",
   "metadata": {},
   "outputs": [
    {
     "name": "stdout",
     "output_type": "stream",
     "text": [
      "[True, 1, 'ayesha', 'batool', 'ayesha']\n"
     ]
    }
   ],
   "source": [
    "names.reverse()\n",
    "print(names)"
   ]
  },
  {
   "cell_type": "markdown",
   "id": "aee94d6b",
   "metadata": {},
   "source": [
    "## Slicing List\n"
   ]
  },
  {
   "cell_type": "code",
   "execution_count": 187,
   "id": "c47f3ea3",
   "metadata": {},
   "outputs": [
    {
     "name": "stdout",
     "output_type": "stream",
     "text": [
      "[1, 2, 3, 4, 5]\n",
      "[1, 3, 5, 7, 9]\n",
      "[10, 9, 8, 7, 6, 5, 4, 3, 2, 1]\n"
     ]
    }
   ],
   "source": [
    "numbers =[1,2,3,4,5,6,7,8,9,10]\n",
    "print(numbers[:5])\n",
    "print(numbers[::2])\n",
    "print(numbers[::-1])"
   ]
  },
  {
   "cell_type": "code",
   "execution_count": 188,
   "id": "9447bb65",
   "metadata": {},
   "outputs": [
    {
     "name": "stdout",
     "output_type": "stream",
     "text": [
      "1\n",
      "2\n",
      "3\n",
      "4\n",
      "5\n",
      "6\n",
      "7\n",
      "8\n",
      "9\n",
      "10\n"
     ]
    }
   ],
   "source": [
    "for number in numbers:\n",
    "    print(number)"
   ]
  },
  {
   "cell_type": "markdown",
   "id": "514429d3",
   "metadata": {},
   "source": [
    "## Iterating with index: here main function is enumerate  which iterate numbers with  indicies"
   ]
  },
  {
   "cell_type": "code",
   "execution_count": 189,
   "id": "a93bdd19",
   "metadata": {},
   "outputs": [
    {
     "name": "stdout",
     "output_type": "stream",
     "text": [
      "0 1\n",
      "1 2\n",
      "2 3\n",
      "3 4\n",
      "4 5\n",
      "5 6\n",
      "6 7\n",
      "7 8\n",
      "8 9\n",
      "9 10\n"
     ]
    }
   ],
   "source": [
    "for index,number in enumerate(numbers):\n",
    "    print(index,number)"
   ]
  },
  {
   "cell_type": "markdown",
   "id": "e383e6c5",
   "metadata": {},
   "source": [
    "list comprehension: [expreshion for item in iterable if condition/condition]:"
   ]
  },
  {
   "cell_type": "code",
   "execution_count": 190,
   "id": "013efea3",
   "metadata": {},
   "outputs": [
    {
     "name": "stdout",
     "output_type": "stream",
     "text": [
      "[0, 1, 4, 9, 16, 25, 36, 49, 64, 81]\n"
     ]
    }
   ],
   "source": [
    "square= [numbers**2 for numbers in range(10)]\n",
    "print(square)\n",
    "\n"
   ]
  },
  {
   "cell_type": "markdown",
   "id": "4a694bcb",
   "metadata": {},
   "source": [
    "lst=[]\n",
    "for i in range(10):\n",
    "  if i%2==0:\n",
    "    lst.append(i)\n",
    "\n",
    "print(lst)\n"
   ]
  },
  {
   "cell_type": "code",
   "execution_count": 191,
   "id": "4d5de59e",
   "metadata": {},
   "outputs": [
    {
     "name": "stdout",
     "output_type": "stream",
     "text": [
      "[0, 2, 4, 6, 8]\n"
     ]
    }
   ],
   "source": [
    "lst = [i for i in range(10) if i%2==0]\n",
    "print(lst)"
   ]
  },
  {
   "cell_type": "code",
   "execution_count": 192,
   "id": "c1fd7a6a",
   "metadata": {},
   "outputs": [
    {
     "name": "stdout",
     "output_type": "stream",
     "text": [
      "[[1, 'a'], [1, 'b'], [1, 'c'], [2, 'a'], [2, 'b'], [2, 'c'], [3, 'a'], [3, 'b'], [3, 'c'], [4, 'a'], [4, 'b'], [4, 'c']]\n"
     ]
    }
   ],
   "source": [
    "lst1=[1,2,3,4]\n",
    "lst2 =['a','b','c']\n",
    "compn =[[i,j] for i in lst1 for j in lst2]\n",
    "print(compn)"
   ]
  },
  {
   "cell_type": "markdown",
   "id": "409e6379",
   "metadata": {},
   "source": [
    "Tuples"
   ]
  },
  {
   "cell_type": "code",
   "execution_count": 193,
   "id": "2ce7ef4d",
   "metadata": {},
   "outputs": [
    {
     "name": "stdout",
     "output_type": "stream",
     "text": [
      "()\n",
      "<class 'tuple'>\n"
     ]
    }
   ],
   "source": [
    "empt_tup=()\n",
    "print(empt_tup)\n",
    "print(type(empt_tup))"
   ]
  },
  {
   "cell_type": "code",
   "execution_count": 194,
   "id": "27db2844",
   "metadata": {},
   "outputs": [
    {
     "name": "stdout",
     "output_type": "stream",
     "text": [
      "(1, 2, 3, 1, 'hello', 'ayesha', False)\n"
     ]
    }
   ],
   "source": [
    "num =(1,2,3)\n",
    "mixed_tuple=(1,\"hello\",\"ayesha\",False)\n",
    "conater = num+mixed_tuple\n",
    "print(conater)"
   ]
  },
  {
   "cell_type": "markdown",
   "id": "2fbee72b",
   "metadata": {},
   "source": [
    "Mutable objects inside tuples can be changed:\n"
   ]
  },
  {
   "cell_type": "code",
   "execution_count": 195,
   "id": "1ca2350a",
   "metadata": {},
   "outputs": [
    {
     "name": "stdout",
     "output_type": "stream",
     "text": [
      "(1, [2, 4, 9], 6, 7)\n"
     ]
    }
   ],
   "source": [
    "tips= (1,[2,4],6,7)\n",
    "tips[1].append(9)\n",
    "print(tips)"
   ]
  },
  {
   "cell_type": "markdown",
   "id": "d55334a4",
   "metadata": {},
   "source": [
    "sets"
   ]
  },
  {
   "cell_type": "code",
   "execution_count": 196,
   "id": "446f4422",
   "metadata": {},
   "outputs": [
    {
     "name": "stdout",
     "output_type": "stream",
     "text": [
      "<class 'set'>\n"
     ]
    }
   ],
   "source": [
    "my_set={1,2,4}\n",
    "print(type(my_set))"
   ]
  },
  {
   "cell_type": "markdown",
   "id": "0801d6cd",
   "metadata": {},
   "source": [
    "set() requires one iterable, not multiple separate values."
   ]
  },
  {
   "cell_type": "code",
   "execution_count": 197,
   "id": "a87d4ea3",
   "metadata": {},
   "outputs": [
    {
     "name": "stdout",
     "output_type": "stream",
     "text": [
      "{1, 2}\n"
     ]
    }
   ],
   "source": [
    "a= set([1,2])\n",
    "print(a)"
   ]
  },
  {
   "cell_type": "code",
   "execution_count": 198,
   "id": "3bbca714",
   "metadata": {},
   "outputs": [
    {
     "name": "stdout",
     "output_type": "stream",
     "text": [
      "{1, 2, 3, 4}\n"
     ]
    }
   ],
   "source": [
    "a ={1,2,3}\n",
    "a.add(4)\n",
    "print(a)"
   ]
  },
  {
   "cell_type": "markdown",
   "id": "01b83200",
   "metadata": {},
   "source": [
    "2. remove() → removes element; gives error if not found"
   ]
  },
  {
   "cell_type": "code",
   "execution_count": 199,
   "id": "b86ea0d4",
   "metadata": {},
   "outputs": [
    {
     "name": "stdout",
     "output_type": "stream",
     "text": [
      "{1, 3}\n"
     ]
    }
   ],
   "source": [
    "a = {1, 2, 3}\n",
    "a.remove(2)\n",
    "print(a)   # {1, 3}\n",
    "# a.remove(5)  # ❌ KeyError (if element not found)\n"
   ]
  },
  {
   "cell_type": "markdown",
   "id": "579e5ff0",
   "metadata": {},
   "source": [
    "3. discard() → removes element; NO error if not found"
   ]
  },
  {
   "cell_type": "code",
   "execution_count": 200,
   "id": "f51758ca",
   "metadata": {},
   "outputs": [
    {
     "name": "stdout",
     "output_type": "stream",
     "text": [
      "{1, 3}\n"
     ]
    }
   ],
   "source": [
    "a = {1, 2, 3}\n",
    "a.discard(2)\n",
    "a.discard(5)   # no error even though 5 not in set\n",
    "print(a)       # {1, 3}\n"
   ]
  },
  {
   "cell_type": "markdown",
   "id": "6fccbc55",
   "metadata": {},
   "source": [
    "4. pop() → removes and returns a random element (since sets are unordered)"
   ]
  },
  {
   "cell_type": "code",
   "execution_count": 201,
   "id": "6e2bf4eb",
   "metadata": {},
   "outputs": [
    {
     "name": "stdout",
     "output_type": "stream",
     "text": [
      "1\n",
      "{3, 5, 9}\n"
     ]
    }
   ],
   "source": [
    "c ={1,3,5,9}\n",
    "print(c.pop())\n",
    "print(c)"
   ]
  },
  {
   "cell_type": "code",
   "execution_count": 202,
   "id": "33742a75",
   "metadata": {},
   "outputs": [
    {
     "name": "stdout",
     "output_type": "stream",
     "text": [
      "3\n",
      "{5, 9}\n"
     ]
    }
   ],
   "source": [
    "print(c.pop())\n",
    "print(c)"
   ]
  },
  {
   "cell_type": "code",
   "execution_count": 203,
   "id": "6e797d95",
   "metadata": {},
   "outputs": [
    {
     "name": "stdout",
     "output_type": "stream",
     "text": [
      "set()\n"
     ]
    }
   ],
   "source": [
    "a = {1, 2, 3}\n",
    "a.clear()\n",
    "print(a)  \n"
   ]
  },
  {
   "cell_type": "code",
   "execution_count": 204,
   "id": "1f9e3564",
   "metadata": {},
   "outputs": [
    {
     "name": "stdout",
     "output_type": "stream",
     "text": [
      "{1, 2, 3}\n"
     ]
    }
   ],
   "source": [
    "a = {1, 2, 3}\n",
    "b = a.copy()\n",
    "print(b)   # {1, 2, 3}\n"
   ]
  },
  {
   "cell_type": "code",
   "execution_count": 205,
   "id": "ef6e2967",
   "metadata": {},
   "outputs": [
    {
     "name": "stdout",
     "output_type": "stream",
     "text": [
      "{3}\n"
     ]
    }
   ],
   "source": [
    "a= {3,4}\n",
    "b={5,3,6}\n",
    "c= a.intersection(b)\n",
    "print(c)"
   ]
  },
  {
   "cell_type": "code",
   "execution_count": 206,
   "id": "54b7b014",
   "metadata": {},
   "outputs": [
    {
     "name": "stdout",
     "output_type": "stream",
     "text": [
      "{3, 4, 5, 6}\n"
     ]
    }
   ],
   "source": [
    "a= {3,4}\n",
    "b={5,3,6}\n",
    "c= a.union(b)\n",
    "print(c)"
   ]
  },
  {
   "cell_type": "markdown",
   "id": "28ec946a",
   "metadata": {},
   "source": [
    "9. difference() → elements in first set but not in second , simply means if a difference b then removes elements of b from set a"
   ]
  },
  {
   "cell_type": "code",
   "execution_count": 207,
   "id": "02fb362f",
   "metadata": {},
   "outputs": [
    {
     "name": "stdout",
     "output_type": "stream",
     "text": [
      "{1}\n"
     ]
    }
   ],
   "source": [
    "a = {1, 2, 3}\n",
    "b = {2, 3, 4}\n",
    "print(a.difference(b))   # {1}\n",
    "\n"
   ]
  },
  {
   "cell_type": "markdown",
   "id": "4e870f8b",
   "metadata": {},
   "source": [
    "10. symmetric_difference() → elements in either set but not both( eliminates elements that are common in both)"
   ]
  },
  {
   "cell_type": "code",
   "execution_count": 208,
   "id": "33f27ff5",
   "metadata": {},
   "outputs": [
    {
     "name": "stdout",
     "output_type": "stream",
     "text": [
      "{1, 4}\n"
     ]
    }
   ],
   "source": [
    "a = {1, 2, 3}\n",
    "b = {2, 3, 4}\n",
    "print(a.symmetric_difference(b))   # {1, 4}\n"
   ]
  },
  {
   "cell_type": "markdown",
   "id": "cee679a2",
   "metadata": {},
   "source": [
    "11. issubset() → checks if all elements of one set are in another"
   ]
  },
  {
   "cell_type": "code",
   "execution_count": 209,
   "id": "19de10ee",
   "metadata": {},
   "outputs": [
    {
     "name": "stdout",
     "output_type": "stream",
     "text": [
      "True\n",
      "False\n"
     ]
    }
   ],
   "source": [
    "a = {1, 2}\n",
    "b = {1, 2, 3}\n",
    "print(a.issubset(b))   # True\n",
    "print(b.issubset(a))   # False\n"
   ]
  },
  {
   "cell_type": "markdown",
   "id": "985d5388",
   "metadata": {},
   "source": [
    "What issuperset() does:\n",
    "\n",
    "issuperset(other_set) checks if all elements of other_set are contained in the calling set.\n",
    "\n",
    "In other words, it answers:\n",
    "👉 “Is this set big enough to fully contain the other set?”"
   ]
  },
  {
   "cell_type": "code",
   "execution_count": 2,
   "id": "05f0243e",
   "metadata": {},
   "outputs": [
    {
     "name": "stdout",
     "output_type": "stream",
     "text": [
      "True\n"
     ]
    }
   ],
   "source": [
    "a = {1, 2}\n",
    "b = {1, 2, 3}\n",
    "\n",
    "print(b.issuperset(a))   # True\n"
   ]
  },
  {
   "cell_type": "markdown",
   "id": "a41318cc",
   "metadata": {},
   "source": [
    "DICTIONARIES"
   ]
  },
  {
   "cell_type": "code",
   "execution_count": 210,
   "id": "26290192",
   "metadata": {},
   "outputs": [
    {
     "name": "stdout",
     "output_type": "stream",
     "text": [
      "{}\n",
      "<class 'dict'>\n"
     ]
    }
   ],
   "source": [
    "empty_dic ={}\n",
    "print(empty_dic)\n",
    "print(type(empty_dic))"
   ]
  },
  {
   "cell_type": "code",
   "execution_count": 6,
   "id": "6688d30e",
   "metadata": {},
   "outputs": [
    {
     "name": "stdout",
     "output_type": "stream",
     "text": [
      "{'name': 'ayesha', 'age': 22}\n"
     ]
    }
   ],
   "source": [
    "student ={\"name\":\"ayesha\",\"age\":22}\n",
    "print(student)"
   ]
  },
  {
   "cell_type": "code",
   "execution_count": 5,
   "id": "30ab0baf",
   "metadata": {},
   "outputs": [
    {
     "data": {
      "text/plain": [
       "False"
      ]
     },
     "execution_count": 5,
     "metadata": {},
     "output_type": "execute_result"
    }
   ],
   "source": [
    "student[\"age\"]==30\n"
   ]
  },
  {
   "cell_type": "code",
   "execution_count": 213,
   "id": "85b6af35",
   "metadata": {},
   "outputs": [
    {
     "name": "stdout",
     "output_type": "stream",
     "text": [
      "{'name': 'ayesha', 'age': '22', 'address': 'pakistan'}\n"
     ]
    }
   ],
   "source": [
    "student[\"address\"]=\"pakistan\"\n",
    "print(student )"
   ]
  },
  {
   "cell_type": "code",
   "execution_count": 214,
   "id": "b0adc4d2",
   "metadata": {},
   "outputs": [
    {
     "name": "stdout",
     "output_type": "stream",
     "text": [
      "dict_keys(['name', 'age', 'address'])\n"
     ]
    }
   ],
   "source": [
    "key= student.keys()\n",
    "print(key)"
   ]
  },
  {
   "cell_type": "code",
   "execution_count": 215,
   "id": "36e42183",
   "metadata": {},
   "outputs": [
    {
     "name": "stdout",
     "output_type": "stream",
     "text": [
      "dict_values(['ayesha', '22', 'pakistan'])\n"
     ]
    }
   ],
   "source": [
    "value=student.values()\n",
    "print(value)"
   ]
  },
  {
   "cell_type": "code",
   "execution_count": 216,
   "id": "5beb8702",
   "metadata": {},
   "outputs": [
    {
     "name": "stdout",
     "output_type": "stream",
     "text": [
      "dict_items([('name', 'ayesha'), ('age', '22'), ('address', 'pakistan')])\n"
     ]
    }
   ],
   "source": [
    "item =student.items()\n",
    "print(item)"
   ]
  },
  {
   "cell_type": "code",
   "execution_count": 217,
   "id": "0dd9123e",
   "metadata": {},
   "outputs": [
    {
     "name": "stdout",
     "output_type": "stream",
     "text": [
      "name\n",
      "age\n",
      "address\n"
     ]
    }
   ],
   "source": [
    "for keys in student.keys():\n",
    "    print(keys)"
   ]
  },
  {
   "cell_type": "code",
   "execution_count": 218,
   "id": "7149df9d",
   "metadata": {},
   "outputs": [
    {
     "name": "stdout",
     "output_type": "stream",
     "text": [
      "ayesha\n",
      "22\n",
      "pakistan\n"
     ]
    }
   ],
   "source": [
    "for values in student.values():\n",
    "    print(values)"
   ]
  },
  {
   "cell_type": "code",
   "execution_count": 219,
   "id": "4b4b1a3b",
   "metadata": {},
   "outputs": [
    {
     "name": "stdout",
     "output_type": "stream",
     "text": [
      "name:ayesha\n",
      "age:22\n",
      "address:pakistan\n"
     ]
    }
   ],
   "source": [
    "for keys,values in student.items():\n",
    "    print(f\"{keys}:{values}\")"
   ]
  },
  {
   "cell_type": "markdown",
   "id": "481ed2c5",
   "metadata": {},
   "source": [
    "Dictonaries Functions:"
   ]
  },
  {
   "cell_type": "code",
   "execution_count": 220,
   "id": "0551f647",
   "metadata": {},
   "outputs": [
    {
     "name": "stdout",
     "output_type": "stream",
     "text": [
      "Ayesha\n",
      "N/A\n"
     ]
    }
   ],
   "source": [
    "student = {\"name\": \"Ayesha\", \"age\": 22}\n",
    "print(student.get(\"name\"))      # Ayesha\n",
    "print(student.get(\"city\", \"N/A\"))  # N/A (default if not found)\n"
   ]
  },
  {
   "cell_type": "code",
   "execution_count": 221,
   "id": "404f58f2",
   "metadata": {},
   "outputs": [
    {
     "name": "stdout",
     "output_type": "stream",
     "text": [
      "{'name': 'Ayesha', 'age': 30, 'address': 'rawalpindi'}\n"
     ]
    }
   ],
   "source": [
    "student.update({\"age\":30,\"address\":\"rawalpindi\"})\n",
    "print(student)"
   ]
  },
  {
   "cell_type": "markdown",
   "id": "9d3dcaa1",
   "metadata": {},
   "source": [
    "6. pop() → removes and returns value for a given key"
   ]
  },
  {
   "cell_type": "code",
   "execution_count": 222,
   "id": "404e6bfe",
   "metadata": {},
   "outputs": [
    {
     "name": "stdout",
     "output_type": "stream",
     "text": [
      "{'age': 30, 'address': 'rawalpindi'}\n"
     ]
    }
   ],
   "source": [
    "student.pop(\"name\")\n",
    "print(student )"
   ]
  },
  {
   "cell_type": "markdown",
   "id": "8ef00b05",
   "metadata": {},
   "source": [
    "7. popitem() → removes and returns the last inserted key-value pair"
   ]
  },
  {
   "cell_type": "code",
   "execution_count": 223,
   "id": "3583c6e8",
   "metadata": {},
   "outputs": [
    {
     "name": "stdout",
     "output_type": "stream",
     "text": [
      "('city', 'Rawalpindi')\n",
      "{'name': 'Ayesha', 'age': 22}\n"
     ]
    }
   ],
   "source": [
    "student = {\"name\": \"Ayesha\", \"age\": 22, \"city\": \"Rawalpindi\"}\n",
    "print(student.popitem())  # ('city', 'Rawalpindi')\n",
    "print(student)            # {'name': 'Ayesha', 'age': 22}\n"
   ]
  },
  {
   "cell_type": "code",
   "execution_count": 224,
   "id": "af433484",
   "metadata": {},
   "outputs": [
    {
     "name": "stdout",
     "output_type": "stream",
     "text": [
      "{}\n"
     ]
    }
   ],
   "source": [
    "student = {\"name\": \"Ayesha\", \"age\": 22}\n",
    "student.clear()\n",
    "print(student)   # {}\n"
   ]
  },
  {
   "cell_type": "code",
   "execution_count": 225,
   "id": "b1336384",
   "metadata": {},
   "outputs": [
    {
     "name": "stdout",
     "output_type": "stream",
     "text": [
      "{'name': 'Ayesha'}\n"
     ]
    }
   ],
   "source": [
    "student = {\"name\": \"Ayesha\"}\n",
    "clone = student.copy()\n",
    "print(clone)   # {'name': 'Ayesha'}\n",
    "\n"
   ]
  },
  {
   "cell_type": "markdown",
   "id": "5f8905a1",
   "metadata": {},
   "source": [
    "10. setdefault() → returns value if key exists, otherwise adds it with default value"
   ]
  },
  {
   "cell_type": "code",
   "execution_count": 229,
   "id": "db1d3aff",
   "metadata": {},
   "outputs": [
    {
     "name": "stdout",
     "output_type": "stream",
     "text": [
      "30\n",
      "{'name': ' Ayesha', 'age': 30}\n"
     ]
    }
   ],
   "source": [
    "students ={\"name\":\" Ayesha\",\"age\":30}\n",
    "print(students.setdefault(\"age\", 22))\n",
    "print(students)"
   ]
  },
  {
   "cell_type": "markdown",
   "id": "141352a1",
   "metadata": {},
   "source": [
    "11. fromkeys() → creates dictionary from keys with same default value"
   ]
  },
  {
   "cell_type": "code",
   "execution_count": 230,
   "id": "55bf46e1",
   "metadata": {},
   "outputs": [
    {
     "name": "stdout",
     "output_type": "stream",
     "text": [
      "{'name': 'unkown', 'age': 'unkown', 'city': 'unkown'}\n"
     ]
    }
   ],
   "source": [
    "keys =[\"name\",\"age\",\"city\"]\n",
    "new_dict= dict.fromkeys(keys,\"unkown\")\n",
    "print(new_dict)"
   ]
  }
 ],
 "metadata": {
  "kernelspec": {
   "display_name": "Python 3",
   "language": "python",
   "name": "python3"
  },
  "language_info": {
   "codemirror_mode": {
    "name": "ipython",
    "version": 3
   },
   "file_extension": ".py",
   "mimetype": "text/x-python",
   "name": "python",
   "nbconvert_exporter": "python",
   "pygments_lexer": "ipython3",
   "version": "3.13.7"
  }
 },
 "nbformat": 4,
 "nbformat_minor": 5
}
