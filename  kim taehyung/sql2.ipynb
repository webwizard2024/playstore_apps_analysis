{
 "cells": [
  {
   "cell_type": "code",
   "execution_count": 38,
   "id": "cdc626a5",
   "metadata": {},
   "outputs": [],
   "source": [
    "import sqlite3\n",
    "conn = sqlite3.connect(\"my database.db\")\n",
    "cursor = conn.cursor()"
   ]
  },
  {
   "cell_type": "code",
   "execution_count": 39,
   "id": "f620b7f4",
   "metadata": {},
   "outputs": [],
   "source": [
    "cursor.execute(\"\"\"\n",
    "Create Table If Not Exists student(\n",
    "        id Integer PRIMARY KEY,name Text Not Null,age Integer,grade Text)\n",
    "\n",
    "\"\"\");"
   ]
  },
  {
   "cell_type": "code",
   "execution_count": 40,
   "id": "8ac5a6af",
   "metadata": {},
   "outputs": [
    {
     "data": {
      "text/plain": [
       "<sqlite3.Cursor at 0x2808b1c13c0>"
      ]
     },
     "execution_count": 40,
     "metadata": {},
     "output_type": "execute_result"
    }
   ],
   "source": [
    "cursor.execute(\"insert into student(name,age, grade )Values(?,?,?)\",(\"ayesha\",22,\"A\"))"
   ]
  },
  {
   "cell_type": "code",
   "execution_count": 41,
   "id": "853eb813",
   "metadata": {},
   "outputs": [],
   "source": [
    "conn.commit()"
   ]
  },
  {
   "cell_type": "code",
   "execution_count": 42,
   "id": "876b047d",
   "metadata": {},
   "outputs": [
    {
     "name": "stdout",
     "output_type": "stream",
     "text": [
      "[(None, 'ayesha', 34, 'A'), (None, 'ayesha', 34, 'A'), (None, 'ayesha', 22, 'A')]\n"
     ]
    }
   ],
   "source": [
    "cursor.execute(\"SELECT * FROM student\")\n",
    "print(cursor.fetchall())"
   ]
  },
  {
   "cell_type": "code",
   "execution_count": null,
   "id": "748a875d",
   "metadata": {},
   "outputs": [],
   "source": []
  },
  {
   "cell_type": "code",
   "execution_count": 43,
   "id": "11013556",
   "metadata": {},
   "outputs": [
    {
     "data": {
      "text/plain": [
       "<sqlite3.Cursor at 0x2808b1c13c0>"
      ]
     },
     "execution_count": 43,
     "metadata": {},
     "output_type": "execute_result"
    }
   ],
   "source": [
    "cursor.execute(\" UPDATE student  SET age= 34 where name = 'ayesha'\")\n"
   ]
  },
  {
   "cell_type": "code",
   "execution_count": 44,
   "id": "54d0fdda",
   "metadata": {},
   "outputs": [],
   "source": [
    "conn.commit()"
   ]
  },
  {
   "cell_type": "code",
   "execution_count": 45,
   "id": "0e52c327",
   "metadata": {},
   "outputs": [
    {
     "name": "stdout",
     "output_type": "stream",
     "text": [
      "[(None, 'ayesha', 34, 'A'), (None, 'ayesha', 34, 'A'), (None, 'ayesha', 34, 'A')]\n"
     ]
    }
   ],
   "source": [
    "\n",
    "cursor.execute(\"SELECT * FROM student\")\n",
    "print(cursor.fetchall())"
   ]
  },
  {
   "cell_type": "markdown",
   "id": "8ac39c27",
   "metadata": {},
   "source": [
    "Assignment "
   ]
  },
  {
   "cell_type": "code",
   "execution_count": 47,
   "id": "8bc53f9d",
   "metadata": {},
   "outputs": [
    {
     "name": "stdout",
     "output_type": "stream",
     "text": [
      "All Students:\n",
      "(1, 'Ayesha', 22, 'Lahore')\n",
      "(2, 'Ali', 21, 'Karachi')\n",
      "(3, 'Sara', 23, 'Lahore')\n",
      "(4, 'Usman', 20, 'Islamabad')\n"
     ]
    }
   ],
   "source": [
    "import sqlite3\n",
    "\n",
    "# Connect to database\n",
    "conn = sqlite3.connect(\"school.db\")\n",
    "cursor = conn.cursor()\n",
    "cursor.execute(\"\"\"\n",
    "CREATE TABLE IF NOT EXISTS Students(\n",
    "    StudentID INTEGER PRIMARY KEY,\n",
    "    Name TEXT NOT NULL,\n",
    "    Age INTEGER,\n",
    "    City TEXT\n",
    ")\n",
    "\"\"\")\n",
    "\n",
    "# Step 3: Insert sample records\n",
    "cursor.execute(\"DELETE FROM Students\")   # clear old data if rerun\n",
    "cursor.executemany(\"\"\"\n",
    "INSERT INTO Students(StudentID, Name, Age, City)\n",
    "VALUES (?, ?, ?, ?)\n",
    "\"\"\", [\n",
    "    (1, \"Ayesha\", 22, \"Lahore\"),\n",
    "    (2, \"Ali\", 21, \"Karachi\"),\n",
    "    (3, \"Sara\", 23, \"Lahore\"),\n",
    "    (4, \"Usman\", 20, \"Islamabad\")\n",
    "])\n",
    "conn.commit()\n",
    "\n",
    "\n",
    "# Run the query\n",
    "cursor.execute(\"SELECT * FROM Students\")\n",
    "rows = cursor.fetchall()\n",
    "\n",
    "# Print results\n",
    "print(\"All Students:\")\n",
    "for row in rows:\n",
    "    print(row)\n",
    "\n",
    "# Close connection\n",
    "conn.close()\n"
   ]
  },
  {
   "cell_type": "code",
   "execution_count": 48,
   "id": "6ef326d9",
   "metadata": {},
   "outputs": [
    {
     "name": "stdout",
     "output_type": "stream",
     "text": [
      "Students living in Lahore:\n",
      "Ayesha\n",
      "Sara\n"
     ]
    }
   ],
   "source": [
    "import sqlite3\n",
    "\n",
    "# Connect to database\n",
    "conn = sqlite3.connect(\"school.db\")\n",
    "cursor = conn.cursor()\n",
    "\n",
    "# Run the query\n",
    "cursor.execute(\"SELECT Name FROM Students WHERE City = 'Lahore'\")\n",
    "rows = cursor.fetchall()\n",
    "\n",
    "# Print results\n",
    "print(\"Students living in Lahore:\")\n",
    "for row in rows:\n",
    "    print(row[0])   # row[0] because only Name column is selected\n",
    "\n",
    "# Close connection\n",
    "conn.close()\n"
   ]
  },
  {
   "cell_type": "code",
   "execution_count": 49,
   "id": "e3b682e8",
   "metadata": {},
   "outputs": [
    {
     "name": "stdout",
     "output_type": "stream",
     "text": [
      "Students ordered by Age (descending):\n",
      "(3, 'Sara', 23, 'Lahore')\n",
      "(1, 'Ayesha', 22, 'Lahore')\n",
      "(2, 'Ali', 21, 'Karachi')\n",
      "(4, 'Usman', 20, 'Islamabad')\n"
     ]
    }
   ],
   "source": [
    "import sqlite3\n",
    "\n",
    "# Connect to database\n",
    "conn = sqlite3.connect(\"school.db\")\n",
    "cursor = conn.cursor()\n",
    "\n",
    "# Run the query\n",
    "cursor.execute(\"SELECT * FROM Students ORDER BY Age DESC\")\n",
    "rows = cursor.fetchall()\n",
    "\n",
    "# Print results\n",
    "print(\"Students ordered by Age (descending):\")\n",
    "for row in rows:\n",
    "    print(row)   # shows full row: (StudentID, Name, Age, City)\n",
    "\n",
    "# Close connection\n",
    "conn.close()\n"
   ]
  },
  {
   "cell_type": "code",
   "execution_count": 50,
   "id": "b690e538",
   "metadata": {},
   "outputs": [
    {
     "name": "stdout",
     "output_type": "stream",
     "text": [
      "Student Name | Course Name\n",
      "--------------------------\n",
      "Ayesha | Math\n",
      "Ali | Science\n",
      "Sara | History\n",
      "Usman | Math\n"
     ]
    }
   ],
   "source": [
    "import sqlite3\n",
    "\n",
    "# Connect to database\n",
    "conn = sqlite3.connect(\"school.db\")\n",
    "cursor = conn.cursor()\n",
    "\n",
    "# Create Courses table\n",
    "cursor.execute(\"\"\"\n",
    "CREATE TABLE IF NOT EXISTS Courses(\n",
    "    CourseID INTEGER PRIMARY KEY,\n",
    "    CourseName TEXT NOT NULL,\n",
    "    Teacher TEXT\n",
    ")\n",
    "\"\"\")\n",
    "\n",
    "# Create Enrollments table\n",
    "cursor.execute(\"\"\"\n",
    "CREATE TABLE IF NOT EXISTS Enrollments(\n",
    "    EnrollmentID INTEGER PRIMARY KEY,\n",
    "    StudentID INTEGER,\n",
    "    CourseID INTEGER,\n",
    "    FOREIGN KEY(StudentID) REFERENCES Students(StudentID),\n",
    "    FOREIGN KEY(CourseID) REFERENCES Courses(CourseID)\n",
    ")\n",
    "\"\"\")\n",
    "\n",
    "# Insert sample courses\n",
    "cursor.execute(\"DELETE FROM Courses\")\n",
    "cursor.executemany(\"\"\"\n",
    "INSERT INTO Courses(CourseID, CourseName, Teacher) VALUES (?, ?, ?)\n",
    "\"\"\", [\n",
    "    (1, \"Math\", \"Mr. Khan\"),\n",
    "    (2, \"Science\", \"Ms. Ali\"),\n",
    "    (3, \"History\", \"Dr. Ahmed\")\n",
    "])\n",
    "\n",
    "# Insert sample enrollments\n",
    "cursor.execute(\"DELETE FROM Enrollments\")\n",
    "cursor.executemany(\"\"\"\n",
    "INSERT INTO Enrollments(EnrollmentID, StudentID, CourseID) VALUES (?, ?, ?)\n",
    "\"\"\", [\n",
    "    (1, 1, 1),  # Ayesha → Math\n",
    "    (2, 2, 2),  # Ali → Science\n",
    "    (3, 3, 3),  # Sara → History\n",
    "    (4, 4, 1)   # Usman → Math\n",
    "])\n",
    "\n",
    "conn.commit()\n",
    "\n",
    "# Run the JOIN query\n",
    "cursor.execute(\"\"\"\n",
    "SELECT Students.Name, Courses.CourseName\n",
    "FROM Students\n",
    "JOIN Enrollments ON Students.StudentID = Enrollments.StudentID\n",
    "JOIN Courses ON Enrollments.CourseID = Courses.CourseID\n",
    "\"\"\")\n",
    "\n",
    "rows = cursor.fetchall()\n",
    "\n",
    "# Show results\n",
    "print(\"Student Name | Course Name\")\n",
    "print(\"--------------------------\")\n",
    "for row in rows:\n",
    "    print(row[0], \"|\", row[1])\n",
    "\n",
    "# Close connection\n",
    "conn.close()\n"
   ]
  },
  {
   "cell_type": "code",
   "execution_count": 51,
   "id": "8657e053",
   "metadata": {},
   "outputs": [
    {
     "name": "stdout",
     "output_type": "stream",
     "text": [
      "Total students enrolled: 4\n"
     ]
    }
   ],
   "source": [
    "import sqlite3\n",
    "\n",
    "# Connect to database\n",
    "conn = sqlite3.connect(\"school.db\")\n",
    "cursor = conn.cursor()\n",
    "\n",
    "# Run the counting query\n",
    "cursor.execute(\"SELECT COUNT(*) FROM Enrollments\")\n",
    "result = cursor.fetchone()   # fetchone() since it’s a single value\n",
    "\n",
    "# Print the count\n",
    "print(\"Total students enrolled:\", result[0])\n",
    "\n",
    "# Close connection\n",
    "conn.close()\n"
   ]
  }
 ],
 "metadata": {
  "kernelspec": {
   "display_name": "Python 3",
   "language": "python",
   "name": "python3"
  },
  "language_info": {
   "codemirror_mode": {
    "name": "ipython",
    "version": 3
   },
   "file_extension": ".py",
   "mimetype": "text/x-python",
   "name": "python",
   "nbconvert_exporter": "python",
   "pygments_lexer": "ipython3",
   "version": "3.13.7"
  }
 },
 "nbformat": 4,
 "nbformat_minor": 5
}
