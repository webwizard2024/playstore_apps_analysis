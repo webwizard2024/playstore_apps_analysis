{
 "cells": [
  {
   "cell_type": "code",
   "execution_count": 1,
   "id": "8ac0345f",
   "metadata": {},
   "outputs": [
    {
     "name": "stdout",
     "output_type": "stream",
     "text": [
      "Sum of even numbers from 1 to 100: 2550\n",
      "2 is prime? True\n",
      "[2, 4, 6, 8]\n",
      "Average grade: 85.25\n",
      "Reversed string: nohtyP\n",
      "Factorial of 5: 120\n",
      "Number of vowels: 3\n",
      "Shortest name: Ali\n",
      "Longest name: Christopher\n",
      "madam is palindrome? True\n",
      "hello is palindrome? False\n",
      "Fibonacci up to 50: [0, 1, 1, 2, 3, 5, 8, 13, 21, 34]\n",
      "Intersection: [4, 5]\n",
      "I like mangoes. Mangoes are sweet.\n",
      "Max: 99\n",
      "Min: 1\n",
      "Sorted: ['apple', 'banana', 'cherry', 'date']\n",
      "[1, 2, 3, 4, 5]\n"
     ]
    }
   ],
   "source": [
    "# 1. Sum of even numbers from 1 to 100\n",
    "sum_even = 0\n",
    "for i in range(1, 101):\n",
    "    if i % 2 == 0:\n",
    "        sum_even += i\n",
    "print(\"Sum of even numbers from 1 to 100:\", sum_even)\n",
    "\n",
    "\n",
    "# 2. Check if a number is prime\n",
    "num = int(input(\"Enter a number: \"))\n",
    "is_prime = True\n",
    "if num > 1:\n",
    "    for i in range(2, num):\n",
    "        if num % i == 0:\n",
    "            is_prime = False\n",
    "            break\n",
    "else:\n",
    "    is_prime = False\n",
    "print(num, \"is prime?\" , is_prime)\n",
    "\n",
    "\n",
    "# 3. Function to return only even numbers from a list\n",
    "def get_even_numbers(numbers):\n",
    "    return [n for n in numbers if n % 2 == 0]\n",
    "\n",
    "print(get_even_numbers([1,2,3,4,5,6,7,8]))\n",
    "\n",
    "\n",
    "# 4. Dictionary of grades and average\n",
    "grades = {\"Math\": 85, \"Science\": 90, \"English\": 78, \"History\": 88}\n",
    "average = sum(grades.values()) / len(grades)\n",
    "print(\"Average grade:\", average)\n",
    "\n",
    "\n",
    "# 5. Reverse a string without built-in reverse\n",
    "text = \"Python\"\n",
    "reversed_text = \"\"\n",
    "for ch in text:\n",
    "    reversed_text = ch + reversed_text\n",
    "print(\"Reversed string:\", reversed_text)\n",
    "\n",
    "\n",
    "# 6. Factorial using loop\n",
    "def factorial(n):\n",
    "    result = 1\n",
    "    for i in range(1, n+1):\n",
    "        result *= i\n",
    "    return result\n",
    "\n",
    "print(\"Factorial of 5:\", factorial(5))\n",
    "\n",
    "\n",
    "# 7. Count vowels in a string\n",
    "string = \"Hello World\"\n",
    "vowels = \"aeiouAEIOU\"\n",
    "count = 0\n",
    "for ch in string:\n",
    "    if ch in vowels:\n",
    "        count += 1\n",
    "print(\"Number of vowels:\", count)\n",
    "\n",
    "\n",
    "# 8. Find shortest and longest names\n",
    "names = [\"Ali\", \"Zara\", \"Christopher\", \"John\", \"Bob\"]\n",
    "shortest = min(names, key=len)\n",
    "longest = max(names, key=len)\n",
    "print(\"Shortest name:\", shortest)\n",
    "print(\"Longest name:\", longest)\n",
    "\n",
    "\n",
    "# 9. Check palindrome\n",
    "def is_palindrome(word):\n",
    "    return word == word[::-1]\n",
    "\n",
    "print(\"madam is palindrome?\", is_palindrome(\"madam\"))\n",
    "print(\"hello is palindrome?\", is_palindrome(\"hello\"))\n",
    "\n",
    "\n",
    "# 10. Fibonacci sequence up to a limit\n",
    "limit = 50\n",
    "fib = [0, 1]\n",
    "while fib[-1] + fib[-2] <= limit:\n",
    "    fib.append(fib[-1] + fib[-2])\n",
    "print(\"Fibonacci up to 50:\", fib)\n",
    "\n",
    "\n",
    "# 11. Intersection of two lists\n",
    "list1 = [1,2,3,4,5]\n",
    "list2 = [4,5,6,7,8]\n",
    "intersection = [x for x in list1 if x in list2]\n",
    "print(\"Intersection:\", intersection)\n",
    "\n",
    "\n",
    "# 12. Replace word in text\n",
    "text = \"I like apples. Apples are sweet.\"\n",
    "new_text = text.replace(\"apples\", \"mangoes\").replace(\"Apples\", \"Mangoes\")\n",
    "print(new_text)\n",
    "\n",
    "\n",
    "# 13. Find max and min in tuple\n",
    "numbers = (10, 2, 33, 45, 1, 99)\n",
    "print(\"Max:\", max(numbers))\n",
    "print(\"Min:\", min(numbers))\n",
    "\n",
    "\n",
    "# 14. Sort list of strings alphabetically\n",
    "words = [\"banana\", \"apple\", \"cherry\", \"date\"]\n",
    "words.sort()\n",
    "print(\"Sorted:\", words)\n",
    "\n",
    "\n",
    "# 15. Return unique values from list\n",
    "def unique_list(lst):\n",
    "    return list(set(lst))\n",
    "\n",
    "print(unique_list([1,2,2,3,4,4,5]))\n"
   ]
  },
  {
   "cell_type": "code",
   "execution_count": 6,
   "id": "f3c29bf6",
   "metadata": {},
   "outputs": [],
   "source": [
    "import math \n",
    "a= math.sqrt(20)\n",
    "\n"
   ]
  },
  {
   "cell_type": "code",
   "execution_count": 8,
   "id": "b1960e4c",
   "metadata": {},
   "outputs": [
    {
     "name": "stdout",
     "output_type": "stream",
     "text": [
      "<class 'float'>\n"
     ]
    }
   ],
   "source": [
    "print(type(a))"
   ]
  },
  {
   "cell_type": "code",
   "execution_count": null,
   "id": "d16f3f1b",
   "metadata": {},
   "outputs": [],
   "source": [
    "import numpy\n",
    "import pandas"
   ]
  },
  {
   "cell_type": "code",
   "execution_count": 9,
   "id": "01b75590",
   "metadata": {},
   "outputs": [
    {
     "data": {
      "text/plain": [
       "30"
      ]
     },
     "execution_count": 9,
     "metadata": {},
     "output_type": "execute_result"
    }
   ],
   "source": [
    "from packages import a\n",
    "a.add(10,20)"
   ]
  },
  {
   "cell_type": "code",
   "execution_count": 22,
   "id": "5535843f",
   "metadata": {},
   "outputs": [
    {
     "ename": "ImportError",
     "evalue": "cannot import name 'multiply' from 'packages.a' (c:\\Users\\SYS\\Desktop\\navttc\\packages\\a.py)",
     "output_type": "error",
     "traceback": [
      "\u001b[31m---------------------------------------------------------------------------\u001b[39m",
      "\u001b[31mImportError\u001b[39m                               Traceback (most recent call last)",
      "\u001b[36mCell\u001b[39m\u001b[36m \u001b[39m\u001b[32mIn[22]\u001b[39m\u001b[32m, line 1\u001b[39m\n\u001b[32m----> \u001b[39m\u001b[32m1\u001b[39m \u001b[38;5;28;01mfrom\u001b[39;00m\u001b[38;5;250m \u001b[39m\u001b[34;01mpackages\u001b[39;00m\u001b[34;01m.\u001b[39;00m\u001b[34;01ma\u001b[39;00m\u001b[38;5;250m \u001b[39m\u001b[38;5;28;01mimport\u001b[39;00m multiply\n\u001b[32m      2\u001b[39m \u001b[38;5;28mprint\u001b[39m(multiply(\u001b[32m10\u001b[39m, \u001b[32m20\u001b[39m))\n",
      "\u001b[31mImportError\u001b[39m: cannot import name 'multiply' from 'packages.a' (c:\\Users\\SYS\\Desktop\\navttc\\packages\\a.py)"
     ]
    }
   ],
   "source": [
    "from packages.a import multiply\n",
    "print(multiply(10, 20))\n"
   ]
  },
  {
   "cell_type": "code",
   "execution_count": 23,
   "id": "ce3365d9",
   "metadata": {},
   "outputs": [
    {
     "name": "stdout",
     "output_type": "stream",
     "text": [
      "hello world \n",
      "hello world\n"
     ]
    }
   ],
   "source": [
    "with open('a.txt','r') as file:\n",
    "  content=file.read()\n",
    "  print(content)\n",
    "\n"
   ]
  },
  {
   "cell_type": "code",
   "execution_count": 24,
   "id": "19a092f2",
   "metadata": {},
   "outputs": [
    {
     "name": "stdout",
     "output_type": "stream",
     "text": [
      "folder\\file.txt\n"
     ]
    }
   ],
   "source": [
    "import os\n",
    "dir_name=\"folder\"\n",
    "file_name=\"file.txt\"\n",
    "full_path=os.path.join(dir_name,file_name)\n",
    "print(full_path)\n",
    "\n"
   ]
  },
  {
   "cell_type": "code",
   "execution_count": 25,
   "id": "cf9294fc",
   "metadata": {},
   "outputs": [
    {
     "name": "stdout",
     "output_type": "stream",
     "text": [
      "this is not posible\n"
     ]
    }
   ],
   "source": [
    "try:\n",
    "    a= 1/0\n",
    "except:\n",
    "    print(\"this is not posible\")"
   ]
  },
  {
   "cell_type": "code",
   "execution_count": 32,
   "id": "59e41a70",
   "metadata": {},
   "outputs": [
    {
     "name": "stdout",
     "output_type": "stream",
     "text": [
      "this is not posible\n"
     ]
    }
   ],
   "source": [
    "try:#\n",
    "    a= q\n",
    "except:\n",
    "    print(\"this is not posible\")"
   ]
  }
 ],
 "metadata": {
  "kernelspec": {
   "display_name": "Python 3",
   "language": "python",
   "name": "python3"
  },
  "language_info": {
   "codemirror_mode": {
    "name": "ipython",
    "version": 3
   },
   "file_extension": ".py",
   "mimetype": "text/x-python",
   "name": "python",
   "nbconvert_exporter": "python",
   "pygments_lexer": "ipython3",
   "version": "3.13.7"
  }
 },
 "nbformat": 4,
 "nbformat_minor": 5
}
