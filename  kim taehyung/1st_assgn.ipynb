{
 "cells": [
  {
   "cell_type": "code",
   "execution_count": 4,
   "id": "dec21878",
   "metadata": {},
   "outputs": [
    {
     "name": "stdout",
     "output_type": "stream",
     "text": [
      "your age in months is: 264 months\n",
      "your age in weeks is: 1147 weeks\n",
      "your age in days is: 8030 days\n",
      "your age in hours is: 192720 hours\n",
      "your age in minutes is: 11563200 minutes\n",
      "your age in seconds is: 693792000 seconds\n"
     ]
    }
   ],
   "source": [
    "age = int(input(\"Enter your Age!\"))\n",
    "\n",
    "months =age*12\n",
    "days =age*365\n",
    "weeks = days //7\n",
    "hours= days*24\n",
    "minutes= hours*60\n",
    "seconds=minutes*60\n",
    "\n",
    "print(\"your age in months is:\",months,\"months\")\n",
    "print(\"your age in weeks is:\",weeks,\"weeks\")\n",
    "print(\"your age in days is:\",days,\"days\")\n",
    "print(\"your age in hours is:\",hours,\"hours\")\n",
    "print(\"your age in minutes is:\",minutes,\"minutes\")\n",
    "print(\"your age in seconds is:\",seconds,\"seconds\")\n"
   ]
  }
 ],
 "metadata": {
  "kernelspec": {
   "display_name": "Python 3",
   "language": "python",
   "name": "python3"
  },
  "language_info": {
   "codemirror_mode": {
    "name": "ipython",
    "version": 3
   },
   "file_extension": ".py",
   "mimetype": "text/x-python",
   "name": "python",
   "nbconvert_exporter": "python",
   "pygments_lexer": "ipython3",
   "version": "3.13.7"
  }
 },
 "nbformat": 4,
 "nbformat_minor": 5
}
