{
 "cells": [
  {
   "cell_type": "code",
   "execution_count": 4,
   "id": "2920eb4f",
   "metadata": {},
   "outputs": [],
   "source": [
    "import sqlite3\n",
    "connection =sqlite3.connect('ayesha.db')\n"
   ]
  },
  {
   "cell_type": "code",
   "execution_count": 5,
   "id": "e40e6da3",
   "metadata": {},
   "outputs": [
    {
     "data": {
      "text/plain": [
       "<sqlite3.Connection at 0x1e1d1ab0a90>"
      ]
     },
     "execution_count": 5,
     "metadata": {},
     "output_type": "execute_result"
    }
   ],
   "source": [
    "connection"
   ]
  },
  {
   "cell_type": "markdown",
   "id": "8991a430",
   "metadata": {},
   "source": [
    "Create"
   ]
  },
  {
   "cell_type": "code",
   "execution_count": 20,
   "id": "c369c68a",
   "metadata": {},
   "outputs": [
    {
     "data": {
      "text/plain": [
       "'create  table if not  exist tech_Ninjas(id integer,name text not null,age  interger, department integer )'"
      ]
     },
     "execution_count": 20,
     "metadata": {},
     "output_type": "execute_result"
    }
   ],
   "source": [
    "\"create  table if not  exist tech_Ninjas(id integer,name text not null,age  interger, department integer )\""
   ]
  },
  {
   "cell_type": "code",
   "execution_count": 21,
   "id": "5b07a164",
   "metadata": {},
   "outputs": [],
   "source": [
    "cursor = connection.cursor()"
   ]
  },
  {
   "cell_type": "code",
   "execution_count": null,
   "id": "26c70840",
   "metadata": {},
   "outputs": [],
   "source": []
  },
  {
   "cell_type": "code",
   "execution_count": 43,
   "id": "8edd216b",
   "metadata": {},
   "outputs": [
    {
     "data": {
      "text/plain": [
       "<sqlite3.Cursor at 0x1e1d19a8a40>"
      ]
     },
     "execution_count": 43,
     "metadata": {},
     "output_type": "execute_result"
    }
   ],
   "source": [
    "cursor.execute(\"\"\"\n",
    "    create  table if not exists tech_Ninjas(\n",
    "        id integer,\n",
    "        name text not null,\n",
    "        age integer,\n",
    "        department integer\n",
    "    )\n",
    "\"\"\")\n"
   ]
  },
  {
   "cell_type": "code",
   "execution_count": 44,
   "id": "b285f4b2",
   "metadata": {},
   "outputs": [],
   "source": [
    "connection.commit()"
   ]
  },
  {
   "cell_type": "markdown",
   "id": "6e606035",
   "metadata": {},
   "source": [
    "Fetch"
   ]
  },
  {
   "cell_type": "code",
   "execution_count": 45,
   "id": "fb774b4c",
   "metadata": {},
   "outputs": [],
   "source": [
    "cursor.execute(\"select * from  tech_Ninjas\")\n",
    "connection.commit()"
   ]
  },
  {
   "cell_type": "markdown",
   "id": "c4d66b58",
   "metadata": {},
   "source": [
    "##Insertion"
   ]
  },
  {
   "cell_type": "code",
   "execution_count": 46,
   "id": "6da340d6",
   "metadata": {},
   "outputs": [
    {
     "data": {
      "text/plain": [
       "<sqlite3.Cursor at 0x1e1d19a8a40>"
      ]
     },
     "execution_count": 46,
     "metadata": {},
     "output_type": "execute_result"
    }
   ],
   "source": [
    "cursor.execute(''' \n",
    "Insert Into tech_Ninjas(id,name,age,department)\n",
    "               values(1,'ayesha',22,'data scientists')\n",
    "''' )\n",
    "cursor.execute(''' \n",
    "Insert Into tech_Ninjas(id,name,age,department)\n",
    "               values(2,'ayes',25,'data analytics')\n",
    "''' )"
   ]
  },
  {
   "cell_type": "code",
   "execution_count": 47,
   "id": "a7602896",
   "metadata": {},
   "outputs": [],
   "source": [
    "connection.commit()\n"
   ]
  },
  {
   "cell_type": "code",
   "execution_count": 48,
   "id": "5249e5e8",
   "metadata": {},
   "outputs": [],
   "source": [
    "cursor.execute(\"select * from  tech_Ninjas\")\n",
    "row=cursor.fetchall()"
   ]
  },
  {
   "cell_type": "code",
   "execution_count": 49,
   "id": "1b972420",
   "metadata": {},
   "outputs": [
    {
     "data": {
      "text/plain": [
       "[(1, 'ayesha', 22, 'data scientists'),\n",
       " (1, 'ayesha', 22, 'data scientists'),\n",
       " (1, 'ayesha', 22, 'data scientists'),\n",
       " (2, 'ayes', 34, 'data analytics'),\n",
       " (1, 'ayesha', 22, 'data scientists'),\n",
       " (2, 'ayes', 25, 'data analytics')]"
      ]
     },
     "execution_count": 49,
     "metadata": {},
     "output_type": "execute_result"
    }
   ],
   "source": [
    "row"
   ]
  },
  {
   "cell_type": "code",
   "execution_count": 50,
   "id": "fd867e0e",
   "metadata": {},
   "outputs": [
    {
     "name": "stdout",
     "output_type": "stream",
     "text": [
      "(1, 'ayesha', 22, 'data scientists')\n",
      "(1, 'ayesha', 22, 'data scientists')\n",
      "(1, 'ayesha', 22, 'data scientists')\n",
      "(2, 'ayes', 34, 'data analytics')\n",
      "(1, 'ayesha', 22, 'data scientists')\n",
      "(2, 'ayes', 25, 'data analytics')\n"
     ]
    }
   ],
   "source": [
    "for  b in row:\n",
    "    print(b)"
   ]
  },
  {
   "cell_type": "code",
   "execution_count": 51,
   "id": "73ca7264",
   "metadata": {},
   "outputs": [
    {
     "data": {
      "text/plain": [
       "<sqlite3.Cursor at 0x1e1d19a8a40>"
      ]
     },
     "execution_count": 51,
     "metadata": {},
     "output_type": "execute_result"
    }
   ],
   "source": [
    "cursor.execute(''' \n",
    "UPDATE tech_Ninjas\n",
    "set age=34\n",
    "where name =\"ayes\"\n",
    "''' )"
   ]
  },
  {
   "cell_type": "code",
   "execution_count": 52,
   "id": "6fa01f84",
   "metadata": {},
   "outputs": [],
   "source": [
    "connection.commit()"
   ]
  },
  {
   "cell_type": "code",
   "execution_count": null,
   "id": "cd01c89e",
   "metadata": {},
   "outputs": [],
   "source": [
    "connection.close()"
   ]
  }
 ],
 "metadata": {
  "kernelspec": {
   "display_name": "Python 3",
   "language": "python",
   "name": "python3"
  },
  "language_info": {
   "codemirror_mode": {
    "name": "ipython",
    "version": 3
   },
   "file_extension": ".py",
   "mimetype": "text/x-python",
   "name": "python",
   "nbconvert_exporter": "python",
   "pygments_lexer": "ipython3",
   "version": "3.13.7"
  }
 },
 "nbformat": 4,
 "nbformat_minor": 5
}
