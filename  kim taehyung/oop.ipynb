{
 "cells": [
  {
   "cell_type": "code",
   "execution_count": 4,
   "id": "3ae31d1e",
   "metadata": {},
   "outputs": [
    {
     "data": {
      "text/plain": [
       "__main__.car"
      ]
     },
     "execution_count": 4,
     "metadata": {},
     "output_type": "execute_result"
    }
   ],
   "source": [
    "class car:\n",
    "    pass\n",
    "a =car()\n",
    "a\n",
    "type(a)\n"
   ]
  },
  {
   "cell_type": "markdown",
   "id": "67360865",
   "metadata": {},
   "source": [
    "## constructor"
   ]
  },
  {
   "cell_type": "code",
   "execution_count": 30,
   "id": "8f35d785",
   "metadata": {},
   "outputs": [],
   "source": [
    "class Dog:\n",
    "    def __init__(self,name,age):\n",
    "        self.name= name\n",
    "        self.age=age\n",
    "    def bark(self):\n",
    "        print(f\"{self.name}says woof\")\n",
    "\n",
    "a = Dog(\"yeontan\",\"7\")\n",
    "b = Dog(\"bam\",\"8\")\n",
    "       "
   ]
  },
  {
   "cell_type": "code",
   "execution_count": 31,
   "id": "a95f2cd3",
   "metadata": {},
   "outputs": [
    {
     "name": "stdout",
     "output_type": "stream",
     "text": [
      "yeontansays woof\n"
     ]
    }
   ],
   "source": [
    "a.bark()"
   ]
  },
  {
   "cell_type": "code",
   "execution_count": 32,
   "id": "81947379",
   "metadata": {},
   "outputs": [
    {
     "data": {
      "text/plain": [
       "'yeontan'"
      ]
     },
     "execution_count": 32,
     "metadata": {},
     "output_type": "execute_result"
    }
   ],
   "source": [
    "a.name"
   ]
  },
  {
   "cell_type": "code",
   "execution_count": 33,
   "id": "7e518036",
   "metadata": {},
   "outputs": [
    {
     "data": {
      "text/plain": [
       "'7'"
      ]
     },
     "execution_count": 33,
     "metadata": {},
     "output_type": "execute_result"
    }
   ],
   "source": [
    "a.age"
   ]
  },
  {
   "cell_type": "code",
   "execution_count": 34,
   "id": "84c828e1",
   "metadata": {},
   "outputs": [
    {
     "name": "stdout",
     "output_type": "stream",
     "text": [
      "black bmw is driving...\n",
      "blue lambo is driving...\n"
     ]
    }
   ],
   "source": [
    "class caz:\n",
    "    def __init__(self,brand,color):\n",
    "        self.brand=brand\n",
    "        self.color=color\n",
    "    def drive(self):\n",
    "        print(f\"{self.color} {self.brand} is driving...\")\n",
    "caz1 = caz(\"bmw\",\"black\")\n",
    "caz2=caz(\"lambo\",\"blue\")   \n",
    "\n",
    "caz1.drive()\n",
    "caz2.drive()\n"
   ]
  },
  {
   "cell_type": "markdown",
   "id": "e70e71de",
   "metadata": {},
   "source": [
    "Step 1: Basic Inheritance"
   ]
  },
  {
   "cell_type": "code",
   "execution_count": 35,
   "id": "7f9dd2f0",
   "metadata": {},
   "outputs": [
    {
     "name": "stdout",
     "output_type": "stream",
     "text": [
      "tannie makes sound\n",
      "tannie can bark\n"
     ]
    }
   ],
   "source": [
    "class Animal:\n",
    "    def __init__(self,name):\n",
    "        self.name= name\n",
    "    def speak(self):\n",
    "        print(f\"{self.name} makes sound\")\n",
    "\n",
    "class Dog(Animal):\n",
    "    def bark(self):\n",
    "        print(f\"{self.name} can bark\")\n",
    "\n",
    "dog1 = Dog(\"tannie\")\n",
    "dog1.speak()\n",
    "dog1.bark()"
   ]
  },
  {
   "cell_type": "markdown",
   "id": "c7b1d860",
   "metadata": {},
   "source": [
    "Why this is polymorphism\n",
    "\n",
    "Both classes share the same method name sound(), but each method does something different for its class.\n",
    "\n",
    "The loop calls sound() without caring what the object's class actually is — that’s the essence of polymorphism: same interface, different behavior.\n",
    "\n",
    "This also works because of Python’s duck typing: if an object has a sound method, it will be used—no need to check types."
   ]
  },
  {
   "cell_type": "markdown",
   "id": "206a9c23",
   "metadata": {},
   "source": [
    "Polymorphism means \"having many forms\".\n",
    "In programming, it allows the same function, method, or operator to behave differently depending on the object or data type it is working with."
   ]
  },
  {
   "cell_type": "code",
   "execution_count": 36,
   "id": "b7724b08",
   "metadata": {},
   "outputs": [
    {
     "name": "stdout",
     "output_type": "stream",
     "text": [
      "bark!\n",
      "meow!\n"
     ]
    }
   ],
   "source": [
    "class dogi:\n",
    "    def sound(self):\n",
    "        return \"bark!\"\n",
    "class cat:\n",
    "    def sound(self):\n",
    "        return \"meow!\"\n",
    "\n",
    "animals= [dogi(),cat()]\n",
    "for animal in animals:\n",
    "    print(animal.sound())"
   ]
  },
  {
   "cell_type": "markdown",
   "id": "477953f3",
   "metadata": {},
   "source": [
    "\n",
    "Polymorphism by Inheritance (Method Overriding)"
   ]
  },
  {
   "cell_type": "code",
   "execution_count": 37,
   "id": "a925a8b7",
   "metadata": {},
   "outputs": [
    {
     "name": "stdout",
     "output_type": "stream",
     "text": [
      "mostly birds can fly \n",
      "penguin cannot fly \n"
     ]
    }
   ],
   "source": [
    "class bird:\n",
    "    def fly (self):\n",
    "        print (\"mostly birds can fly \")\n",
    "class penguin(bird):\n",
    "    def fly (self):\n",
    "        print(\"penguin cannot fly \")\n",
    "bird1 = bird()\n",
    "bird2= penguin()\n",
    "bird1.fly ()\n",
    "bird2.fly ()"
   ]
  },
  {
   "cell_type": "markdown",
   "id": "d5142c25",
   "metadata": {},
   "source": [
    "Define the child class (Penguin) that inherits from Bird\n",
    "\n",
    "class Penguin(Bird): means Penguin gets everything from Bird unless it changes something.\n",
    "\n",
    "Penguin defines its own fly(self) method with the same name as the parent. This is method overriding.\n",
    "Why this is polymorphism\n",
    "\n",
    "Both objects respond to the same message (.fly()), but behave differently because each class provides its own implementation.\n",
    "\n",
    "The code that calls fly() doesn’t need to know which specific subclass it’s working with — it just calls fly() and the correct behavior happens."
   ]
  },
  {
   "cell_type": "code",
   "execution_count": null,
   "id": "5bf4dd18",
   "metadata": {},
   "outputs": [],
   "source": []
  },
  {
   "cell_type": "markdown",
   "id": "ad340524",
   "metadata": {},
   "source": [
    "Definition: Encapsulation means wrapping data (variables) and methods (functions) together inside a class, so they act as a single unit.\n",
    "\n",
    "Purpose: To protect data from accidental modification by restricting direct access.\n",
    "\n",
    "Access Control in Python:\n",
    "\n",
    "Public → accessible from anywhere (default).\n",
    "\n",
    "Protected (_var) → by convention, meant for internal use only (still accessible).\n",
    "\n",
    "Private (__var) → not directly accessible from outside the class (Python uses name mangling to hide it)."
   ]
  },
  {
   "cell_type": "markdown",
   "id": "da5e473e",
   "metadata": {},
   "source": [
    "Example 1: Public (default)"
   ]
  },
  {
   "cell_type": "code",
   "execution_count": 38,
   "id": "a6f63b13",
   "metadata": {},
   "outputs": [
    {
     "name": "stdout",
     "output_type": "stream",
     "text": [
      "i am public\n"
     ]
    }
   ],
   "source": [
    "class publicexample:\n",
    "    def __init__(self):\n",
    "        self.data=\"i am public\"\n",
    "object = publicexample()\n",
    "print(object.data)    "
   ]
  },
  {
   "cell_type": "markdown",
   "id": "f9157569",
   "metadata": {},
   "source": [
    "Example 2: Protected (_var)"
   ]
  },
  {
   "cell_type": "code",
   "execution_count": 40,
   "id": "eeb5ba45",
   "metadata": {},
   "outputs": [
    {
     "name": "stdout",
     "output_type": "stream",
     "text": [
      "i am protected\n"
     ]
    }
   ],
   "source": [
    "class publicexample:\n",
    "    def __init__(self):\n",
    "        self._data=\"i am protected\"\n",
    "object = publicexample()\n",
    "print(object._data)    "
   ]
  },
  {
   "cell_type": "markdown",
   "id": "8915559f",
   "metadata": {},
   "source": [
    "Example 3: Private (__var)"
   ]
  },
  {
   "cell_type": "code",
   "execution_count": 44,
   "id": "37ffc8af",
   "metadata": {},
   "outputs": [
    {
     "name": "stdout",
     "output_type": "stream",
     "text": [
      "i am private\n"
     ]
    }
   ],
   "source": [
    "class privatexample:\n",
    "    def __init__(self):\n",
    "        self.__data = \"i am private\"\n",
    "obj = privatexample()\n",
    "print(obj._privatexample__data)    "
   ]
  },
  {
   "cell_type": "markdown",
   "id": "e1a3905f",
   "metadata": {},
   "source": [
    "Correct way: Getters & Setters\n",
    "\n",
    "Instead of using name mangling directly, we use methods to safely access or modify private data."
   ]
  },
  {
   "cell_type": "code",
   "execution_count": 45,
   "id": "73bc7fd0",
   "metadata": {},
   "outputs": [
    {
     "name": "stdout",
     "output_type": "stream",
     "text": [
      "I am private\n",
      "New value\n"
     ]
    }
   ],
   "source": [
    "class PrivateExample:\n",
    "    def __init__(self):\n",
    "        self.__data = \"I am private\"\n",
    "\n",
    "    # Getter\n",
    "    def get_data(self):\n",
    "        return self.__data\n",
    "\n",
    "    # Setter\n",
    "    def set_data(self, value):\n",
    "        self.__data = value\n",
    "\n",
    "obj = PrivateExample()\n",
    "\n",
    "print(obj.get_data())   # Access via getter → I am private\n",
    "obj.set_data(\"New value\")\n",
    "print(obj.get_data())   # New value\n"
   ]
  },
  {
   "cell_type": "markdown",
   "id": "e278674e",
   "metadata": {},
   "source": [
    "Abstraction in Python\n",
    "\n",
    "Python provides abstraction through Abstract Classes and Abstract Methods.\n",
    "\n",
    "For this, we use the abc module:\n",
    "\n",
    "from abc import ABC, abstractmethod\n",
    "\n",
    "\n",
    "Abstract class = A class that cannot be instantiated (you cannot create its object).\n",
    "\n",
    "Abstract method = A method that is only declared (with pass) but not implemented.\n",
    "\n",
    "Subclasses (child classes) must override this method."
   ]
  },
  {
   "cell_type": "code",
   "execution_count": 46,
   "id": "0f2516aa",
   "metadata": {},
   "outputs": [
    {
     "name": "stdout",
     "output_type": "stream",
     "text": [
      "🚗 Car starts with a key\n",
      "🏍️ Bike starts with a button\n"
     ]
    }
   ],
   "source": [
    "# 🔹 Abstraction in Python using abc module\n",
    "\n",
    "from abc import ABC, abstractmethod   # Import Abstract Base Class tools\n",
    "\n",
    "# Step 1: Create an Abstract Class\n",
    "class Vehicle(ABC):   # Abstract class (cannot be instantiated)\n",
    "    \n",
    "    @abstractmethod\n",
    "    def start(self):   # Abstract method (only declaration, no implementation)\n",
    "        pass\n",
    "\n",
    "# Step 2: Create Concrete (Child) Classes\n",
    "class Car(Vehicle):   # Car inherits Vehicle\n",
    "    def start(self):   # Implements abstract method\n",
    "        print(\"🚗 Car starts with a key\")\n",
    "\n",
    "class Bike(Vehicle):   # Bike inherits Vehicle\n",
    "    def start(self):   # Implements abstract method\n",
    "        print(\"🏍️ Bike starts with a button\")\n",
    "\n",
    "# Step 3: Usage\n",
    "# v = Vehicle()  # ❌ Error: Cannot create object of abstract class\n",
    "\n",
    "v1 = Car()   # Create object of Car\n",
    "v2 = Bike()  # Create object of Bike\n",
    "\n",
    "# Call the same method 'start()' but get different results\n",
    "v1.start()   # Output: 🚗 Car starts with a key\n",
    "v2.start()   # Output: 🏍️ Bike starts with a button\n"
   ]
  },
  {
   "cell_type": "markdown",
   "id": "0e633665",
   "metadata": {},
   "source": [
    "Magic Methods:\n",
    "Special methods in Python (with double underscores __) that define how objects behave with built-in functions and operators.\n",
    "👉 Example: __str__ (for print()), __add__ (for +), __len__ (for len())"
   ]
  },
  {
   "cell_type": "markdown",
   "id": "73a45c62",
   "metadata": {},
   "source": [
    "Method Overloading\n",
    "\n",
    "➡️ Having multiple methods with the same name but different parameters.\n",
    "👉 Python doesn’t support it directly, but it is mimicked using default arguments or *args."
   ]
  },
  {
   "cell_type": "markdown",
   "id": "d24a1744",
   "metadata": {},
   "source": [
    "Operator Overloading\n",
    "\n",
    "➡️ Defining how *operators (+, -, , etc.) should work for user-defined objects by implementing magic methods like __add__, __sub__.\n",
    "👉 Example: using + to add two custom objects instead of just numbers."
   ]
  },
  {
   "cell_type": "markdown",
   "id": "473ff8fb",
   "metadata": {},
   "source": []
  }
 ],
 "metadata": {
  "kernelspec": {
   "display_name": "Python 3",
   "language": "python",
   "name": "python3"
  },
  "language_info": {
   "codemirror_mode": {
    "name": "ipython",
    "version": 3
   },
   "file_extension": ".py",
   "mimetype": "text/x-python",
   "name": "python",
   "nbconvert_exporter": "python",
   "pygments_lexer": "ipython3",
   "version": "3.13.7"
  }
 },
 "nbformat": 4,
 "nbformat_minor": 5
}
